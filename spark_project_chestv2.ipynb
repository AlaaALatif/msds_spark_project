{
 "cells": [
  {
   "cell_type": "code",
   "execution_count": 1,
   "metadata": {},
   "outputs": [],
   "source": [
    "import pickle\n",
    "import pandas as pd\n",
    "from pyspark import SparkContext\n",
    "import time\n",
    "sc = SparkContext.getOrCreate()"
   ]
  },
  {
   "cell_type": "code",
   "execution_count": null,
   "metadata": {},
   "outputs": [],
   "source": [
    "def process_data(raw_data):\n",
    "    freq = 700\n",
    "    wrist_data = raw_data['signal']['wrist']\n",
    "    signal_keys = wrist_data.keys()\n",
    "    df = pd.DataFrame(raw_data['label'], columns=['label'])\n",
    "    df.index = [(1 / freqs['label']) * i for i in range(len(df))]\n",
    "    for mod in signal_keys:\n",
    "        if mod=='ACC':\n",
    "            for i in range(3):\n",
    "                df2 = pd.DataFrame(wrist_data[mod][:, i], \n",
    "                                   columns=[mod+f'_{i}'])\n",
    "                df2.index = [(1 / freqs[mod]) * i for i in range(len(df2))]\n",
    "                df = df.join(df2, how='inner')\n",
    "        else:\n",
    "            df2 = pd.DataFrame(wrist_data[mod], columns=[mod])\n",
    "            df2.index = [(1 / freqs[mod]) * i for i in range(len(df2))]\n",
    "            df = df.join(df2, how='inner')\n",
    "    return df"
   ]
  },
  {
   "cell_type": "code",
   "execution_count": 17,
   "metadata": {},
   "outputs": [],
   "source": [
    "all_chest_tables = pd.DataFrame()\n",
    "nums = [2, 3, 4, 5, 6, 7, 8, 9, 10, 11, 13, 14, 15, 16, 17]\n",
    "\n",
    "\n",
    "def load_data(fname):\n",
    "    with open(fname, 'rb') as f:\n",
    "        u = pickle._Unpickler(f)\n",
    "        u.encoding = 'latin1'\n",
    "        raw_data = u.load()\n",
    "    return raw_data\n",
    "\n",
    "def get_chest_data(raw_data):\n",
    "    raw_chest_data = raw_data['signal']['chest']\n",
    "    key_chest = ['ACC', 'ECG', 'EMG', 'EDA', 'Temp', 'Resp']\n",
    "    subject = raw_data['subject']\n",
    "    labels = raw_data['label']\n",
    "    df = pd.DataFrame(labels, columns=['label'])\n",
    "    df['sub_id'] = subject\n",
    "    for key in key_chest:\n",
    "        if key=='ACC':\n",
    "            df[f'chest_{key}_1'] = raw_chest_data[key][:, 0]\n",
    "            df[f'chest_{key}_2'] = raw_chest_data[key][:, 1]          \n",
    "            df[f'chest_{key}_3'] = raw_chest_data[key][:, 2]\n",
    "        else:\n",
    "            df[f'chest_{key}'] = raw_chest_data[key]\n",
    "    return df\n",
    "\n",
    "def add_time_col(df, freq=700):\n",
    "    df['col_1'] = [(1 / freq) * i for i in range(len(df))]\n",
    "    return df"
   ]
  },
  {
   "cell_type": "code",
   "execution_count": 18,
   "metadata": {},
   "outputs": [],
   "source": [
    "data_path = \"/Users/alaa/data/WESAD/\""
   ]
  },
  {
   "cell_type": "code",
   "execution_count": 19,
   "metadata": {},
   "outputs": [],
   "source": [
    "for i in nums:\n",
    "    fname = data_path+f\"S{i}/S{i}.pkl\"\n",
    "    raw_data = load_data(fname)\n",
    "    df = get_chest_data(raw_data)\n",
    "    df = add_time_col(df)\n",
    "    df.to_csv(f\"Chest/S_{i}.csv\")"
   ]
  }
 ],
 "metadata": {
  "kernelspec": {
   "display_name": "distributed_computing",
   "language": "python",
   "name": "distributed_computing"
  },
  "language_info": {
   "codemirror_mode": {
    "name": "ipython",
    "version": 3
   },
   "file_extension": ".py",
   "mimetype": "text/x-python",
   "name": "python",
   "nbconvert_exporter": "python",
   "pygments_lexer": "ipython3",
   "version": "3.7.4"
  }
 },
 "nbformat": 4,
 "nbformat_minor": 2
}
