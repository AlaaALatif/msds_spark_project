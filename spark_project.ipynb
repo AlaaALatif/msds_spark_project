{
 "cells": [
  {
   "cell_type": "code",
   "execution_count": 1,
   "metadata": {},
   "outputs": [],
   "source": [
    "import pickle\n",
    "import numpy as np\n",
    "import pandas as pd\n",
    "import time"
   ]
  },
  {
   "cell_type": "code",
   "execution_count": 2,
   "metadata": {},
   "outputs": [],
   "source": [
    "from pyspark import SparkContext\n",
    "from pyspark.sql import SparkSession\n",
    "sc = SparkContext.getOrCreate()\n",
    "ss = SparkSession.builder.getOrCreate()"
   ]
  },
  {
   "cell_type": "code",
   "execution_count": 3,
   "metadata": {},
   "outputs": [],
   "source": [
    "fname = \"/Users/alaa/data/WESAD/S2/S2.pkl\""
   ]
  },
  {
   "cell_type": "code",
   "execution_count": 4,
   "metadata": {},
   "outputs": [],
   "source": [
    "with open(fname, 'rb') as f:\n",
    "    u = pickle._Unpickler(f)\n",
    "    u.encoding = 'latin1'\n",
    "    raw_data = u.load()"
   ]
  },
  {
   "cell_type": "code",
   "execution_count": 5,
   "metadata": {},
   "outputs": [],
   "source": [
    "num_rows = len(raw_data['signal']['chest']['ACC'])"
   ]
  },
  {
   "cell_type": "code",
   "execution_count": 6,
   "metadata": {},
   "outputs": [
    {
     "data": {
      "text/plain": [
       "'S2'"
      ]
     },
     "execution_count": 6,
     "metadata": {},
     "output_type": "execute_result"
    }
   ],
   "source": [
    "raw_data['subject']"
   ]
  },
  {
   "cell_type": "code",
   "execution_count": 7,
   "metadata": {},
   "outputs": [
    {
     "data": {
      "text/plain": [
       "['signal', 'label', 'subject']"
      ]
     },
     "execution_count": 7,
     "metadata": {},
     "output_type": "execute_result"
    }
   ],
   "source": [
    "list(raw_data.keys())"
   ]
  },
  {
   "cell_type": "code",
   "execution_count": 8,
   "metadata": {},
   "outputs": [],
   "source": [
    "keys = list(raw_data.keys())\n",
    "modal_keys = list(raw_data['signal'].keys())\n",
    "signal_keys = {}\n",
    "for modal in modal_keys:\n",
    "    signal_keys[modal] = list(raw_data['signal'][modal].keys())"
   ]
  },
  {
   "cell_type": "code",
   "execution_count": 9,
   "metadata": {},
   "outputs": [
    {
     "data": {
      "text/plain": [
       "{'chest': ['ACC', 'ECG', 'EMG', 'EDA', 'Temp', 'Resp'],\n",
       " 'wrist': ['ACC', 'BVP', 'EDA', 'TEMP']}"
      ]
     },
     "execution_count": 9,
     "metadata": {},
     "output_type": "execute_result"
    }
   ],
   "source": [
    "signal_keys"
   ]
  },
  {
   "cell_type": "code",
   "execution_count": 10,
   "metadata": {},
   "outputs": [
    {
     "name": "stdout",
     "output_type": "stream",
     "text": [
      "['subject', 'label', 'chest-ACC', 'chest-ECG', 'chest-EMG', 'chest-EDA', 'chest-Temp', 'chest-Resp', 'wrist-ACC', 'wrist-BVP', 'wrist-EDA', 'wrist-TEMP']\n"
     ]
    }
   ],
   "source": [
    "subject = np.ones(num_rows) * 2  # S2\n",
    "labels = raw_data['label']\n",
    "columns = ['subject', 'label']\n",
    "for modal in modal_keys:\n",
    "    for signal in signal_keys[modal]:\n",
    "        columns.append(modal+'-'+signal)\n",
    "print(columns)"
   ]
  },
  {
   "cell_type": "code",
   "execution_count": 11,
   "metadata": {},
   "outputs": [],
   "source": [
    "data = {'subject': subject, 'labels': labels}\n",
    "for key in signal_keys['chest']:\n",
    "    if key == 'ACC':\n",
    "        data[key+'_1'] = raw_data['signal']['chest'][key][:, 0]\n",
    "        data[key+'_2'] = raw_data['signal']['chest'][key][:, 1]\n",
    "        data[key+'_3'] = raw_data['signal']['chest'][key][:, 2]\n",
    "    else: data[key] = raw_data['signal']['chest'][key]"
   ]
  },
  {
   "cell_type": "code",
   "execution_count": 12,
   "metadata": {},
   "outputs": [
    {
     "name": "stdout",
     "output_type": "stream",
     "text": [
      "time: 0.1420290470123291\n"
     ]
    }
   ],
   "source": [
    "start = time.time()\n",
    "pd_df = pd.DataFrame(index=np.arange(num_rows))\n",
    "for colname, col in data.items():\n",
    "    pd_df[colname] = col\n",
    "print('time:', time.time() - start)"
   ]
  },
  {
   "cell_type": "code",
   "execution_count": 13,
   "metadata": {},
   "outputs": [
    {
     "data": {
      "text/html": [
       "<div>\n",
       "<style scoped>\n",
       "    .dataframe tbody tr th:only-of-type {\n",
       "        vertical-align: middle;\n",
       "    }\n",
       "\n",
       "    .dataframe tbody tr th {\n",
       "        vertical-align: top;\n",
       "    }\n",
       "\n",
       "    .dataframe thead th {\n",
       "        text-align: right;\n",
       "    }\n",
       "</style>\n",
       "<table border=\"1\" class=\"dataframe\">\n",
       "  <thead>\n",
       "    <tr style=\"text-align: right;\">\n",
       "      <th></th>\n",
       "      <th>subject</th>\n",
       "      <th>labels</th>\n",
       "      <th>ACC_1</th>\n",
       "      <th>ACC_2</th>\n",
       "      <th>ACC_3</th>\n",
       "      <th>ECG</th>\n",
       "      <th>EMG</th>\n",
       "      <th>EDA</th>\n",
       "      <th>Temp</th>\n",
       "      <th>Resp</th>\n",
       "    </tr>\n",
       "  </thead>\n",
       "  <tbody>\n",
       "    <tr>\n",
       "      <th>0</th>\n",
       "      <td>2.0</td>\n",
       "      <td>0</td>\n",
       "      <td>0.9554</td>\n",
       "      <td>-0.2220</td>\n",
       "      <td>-0.5580</td>\n",
       "      <td>0.021423</td>\n",
       "      <td>-0.004440</td>\n",
       "      <td>5.250549</td>\n",
       "      <td>30.120758</td>\n",
       "      <td>-1.148987</td>\n",
       "    </tr>\n",
       "    <tr>\n",
       "      <th>1</th>\n",
       "      <td>2.0</td>\n",
       "      <td>0</td>\n",
       "      <td>0.9258</td>\n",
       "      <td>-0.2216</td>\n",
       "      <td>-0.5538</td>\n",
       "      <td>0.020325</td>\n",
       "      <td>0.004349</td>\n",
       "      <td>5.267334</td>\n",
       "      <td>30.129517</td>\n",
       "      <td>-1.124573</td>\n",
       "    </tr>\n",
       "    <tr>\n",
       "      <th>2</th>\n",
       "      <td>2.0</td>\n",
       "      <td>0</td>\n",
       "      <td>0.9082</td>\n",
       "      <td>-0.2196</td>\n",
       "      <td>-0.5392</td>\n",
       "      <td>0.016525</td>\n",
       "      <td>0.005173</td>\n",
       "      <td>5.243301</td>\n",
       "      <td>30.138214</td>\n",
       "      <td>-1.152039</td>\n",
       "    </tr>\n",
       "    <tr>\n",
       "      <th>3</th>\n",
       "      <td>2.0</td>\n",
       "      <td>0</td>\n",
       "      <td>0.8974</td>\n",
       "      <td>-0.2102</td>\n",
       "      <td>-0.5122</td>\n",
       "      <td>0.016708</td>\n",
       "      <td>0.007187</td>\n",
       "      <td>5.249405</td>\n",
       "      <td>30.129517</td>\n",
       "      <td>-1.158142</td>\n",
       "    </tr>\n",
       "    <tr>\n",
       "      <th>4</th>\n",
       "      <td>2.0</td>\n",
       "      <td>0</td>\n",
       "      <td>0.8882</td>\n",
       "      <td>-0.2036</td>\n",
       "      <td>-0.4824</td>\n",
       "      <td>0.011673</td>\n",
       "      <td>-0.015152</td>\n",
       "      <td>5.286407</td>\n",
       "      <td>30.130951</td>\n",
       "      <td>-1.161194</td>\n",
       "    </tr>\n",
       "  </tbody>\n",
       "</table>\n",
       "</div>"
      ],
      "text/plain": [
       "   subject  labels   ACC_1   ACC_2   ACC_3       ECG       EMG       EDA  \\\n",
       "0      2.0       0  0.9554 -0.2220 -0.5580  0.021423 -0.004440  5.250549   \n",
       "1      2.0       0  0.9258 -0.2216 -0.5538  0.020325  0.004349  5.267334   \n",
       "2      2.0       0  0.9082 -0.2196 -0.5392  0.016525  0.005173  5.243301   \n",
       "3      2.0       0  0.8974 -0.2102 -0.5122  0.016708  0.007187  5.249405   \n",
       "4      2.0       0  0.8882 -0.2036 -0.4824  0.011673 -0.015152  5.286407   \n",
       "\n",
       "        Temp      Resp  \n",
       "0  30.120758 -1.148987  \n",
       "1  30.129517 -1.124573  \n",
       "2  30.138214 -1.152039  \n",
       "3  30.129517 -1.158142  \n",
       "4  30.130951 -1.161194  "
      ]
     },
     "execution_count": 13,
     "metadata": {},
     "output_type": "execute_result"
    }
   ],
   "source": [
    "pd_df.head(5)"
   ]
  },
  {
   "cell_type": "code",
   "execution_count": 14,
   "metadata": {},
   "outputs": [],
   "source": [
    "# Enable Arrow-based columnar data transfers to optimize Python-Java processes\n",
    "ss.conf.set(\"spark.sql.execution.arrow.enabled\", \"true\")"
   ]
  },
  {
   "cell_type": "code",
   "execution_count": 15,
   "metadata": {},
   "outputs": [],
   "source": [
    "# Create Spark DF from Pandas DF\n",
    "spark_df = ss.createDataFrame(pd_df)"
   ]
  },
  {
   "cell_type": "code",
   "execution_count": 16,
   "metadata": {},
   "outputs": [
    {
     "name": "stdout",
     "output_type": "stream",
     "text": [
      "root\n",
      " |-- subject: double (nullable = true)\n",
      " |-- labels: integer (nullable = true)\n",
      " |-- ACC_1: double (nullable = true)\n",
      " |-- ACC_2: double (nullable = true)\n",
      " |-- ACC_3: double (nullable = true)\n",
      " |-- ECG: double (nullable = true)\n",
      " |-- EMG: double (nullable = true)\n",
      " |-- EDA: double (nullable = true)\n",
      " |-- Temp: float (nullable = true)\n",
      " |-- Resp: double (nullable = true)\n",
      "\n"
     ]
    }
   ],
   "source": [
    "spark_df.printSchema()"
   ]
  },
  {
   "cell_type": "code",
   "execution_count": 17,
   "metadata": {},
   "outputs": [
    {
     "name": "stdout",
     "output_type": "stream",
     "text": [
      "+-------+------+------------------+--------------------+--------------------+-------------------+-------------------+------------------+---------+-----------------+\n",
      "|subject|labels|             ACC_1|               ACC_2|               ACC_3|                ECG|                EMG|               EDA|     Temp|             Resp|\n",
      "+-------+------+------------------+--------------------+--------------------+-------------------+-------------------+------------------+---------+-----------------+\n",
      "|    2.0|     0|0.9553999900817871|-0.22200000286102295| -0.5579999685287476|   0.02142333984375|-0.0044403076171875|  5.25054931640625|30.120758|-1.14898681640625|\n",
      "|    2.0|     0|0.9257999658584595| -0.2215999960899353| -0.5537999868392944|   0.02032470703125| 0.0043487548828125|    5.267333984375|30.129517|-1.12457275390625|\n",
      "|    2.0|     0|0.9082000255584717|-0.21960002183914185| -0.5392000079154968| 0.0165252685546875| 0.0051727294921875|5.2433013916015625|30.138214|-1.15203857421875|\n",
      "|    2.0|     0|0.8974000215530396| -0.2102000117301941| -0.5121999979019165| 0.0167083740234375| 0.0071868896484375|5.2494049072265625|30.129517|-1.15814208984375|\n",
      "|    2.0|     0| 0.888200044631958| -0.2035999894142151|-0.48240000009536743| 0.0116729736328125|-0.0151519775390625| 5.286407470703125| 30.13095|-1.16119384765625|\n",
      "|    2.0|     0|0.8822000026702881|-0.19539999961853027| -0.4453999996185303| 0.0048980712890625|   -0.0164794921875|5.2516937255859375|30.125153|  -1.165771484375|\n",
      "|    2.0|     0|0.8760000467300415|-0.18660002946853638|-0.41439998149871826| 0.0027923583984375|  -0.00457763671875|  5.26275634765625|30.207947|  -1.129150390625|\n",
      "|    2.0|     0|0.8680000305175781| -0.1809999942779541| -0.3855999708175659| 0.0060882568359375|-0.0080108642578125|5.2425384521484375|30.162933|  -1.153564453125|\n",
      "|    2.0|     0|0.8522000312805176|-0.17659997940063477| -0.3601999878883362| 0.0099334716796875| 0.0087432861328125|5.2516937255859375| 30.13385|-1.15203857421875|\n",
      "|    2.0|     0|0.8334000110626221|-0.17619997262954712| -0.3425999879837036| 0.0103912353515625|-0.0047149658203125|     5.26123046875|30.119324|-1.21917724609375|\n",
      "|    2.0|     0| 0.818600058555603|-0.17339998483657837| -0.3335999846458435| 0.0068206787109375| -0.029205322265625|5.2425384521484375|30.116425|-1.14898681640625|\n",
      "|    2.0|     0|0.8057999610900879|-0.16820001602172852|-0.32499998807907104| 0.0032501220703125|-0.0204620361328125|5.2494049072265625|30.120758|-1.16424560546875|\n",
      "|    2.0|     0|0.7934000492095947|-0.16500002145767212|-0.32179999351501465|-0.0010528564453125| 0.0030670166015625|   5.2703857421875| 30.13095| -1.1749267578125|\n",
      "|    2.0|     0|0.7735999822616577|-0.15780001878738403|  -0.321399986743927|-0.0074615478515625| 0.0069122314453125| 5.243682861328125|30.129517| -1.1749267578125|\n",
      "|    2.0|     0|0.7585999965667725| -0.1525999903678894|-0.32020002603530884|  -0.01373291015625| 0.0128631591796875| 5.249786376953125|30.129517|-1.18255615234375|\n",
      "|    2.0|     0|0.7505999803543091| -0.1470000147819519|-0.32179999351501465|-0.0166168212890625| 0.0029754638671875|5.2783966064453125|30.190521|-1.16119384765625|\n",
      "|    2.0|     0| 0.739799976348877|-0.14259999990463257|-0.32179999351501465|-0.0189971923828125| 0.0088348388671875|5.2425384521484375|30.122223|-1.15203857421875|\n",
      "|    2.0|     0|0.7338000535964966|-0.13620001077651978| -0.3256000280380249|-0.0211944580078125| 0.0043487548828125|5.2486419677734375|30.123688|-1.17034912109375|\n",
      "|    2.0|     0|0.7272000312805176|-0.12660002708435059| -0.3357999920845032|-0.0223846435546875|  0.004486083984375|5.2646636962890625| 30.11206|-1.16424560546875|\n",
      "|    2.0|     0|0.7258000373840332|-0.11779999732971191|-0.34700000286102295|-0.0235748291015625| 0.0021514892578125|5.2425384521484375| 30.13095|-1.17645263671875|\n",
      "+-------+------+------------------+--------------------+--------------------+-------------------+-------------------+------------------+---------+-----------------+\n",
      "only showing top 20 rows\n",
      "\n"
     ]
    }
   ],
   "source": [
    "spark_df.show()"
   ]
  },
  {
   "cell_type": "code",
   "execution_count": null,
   "metadata": {},
   "outputs": [],
   "source": []
  }
 ],
 "metadata": {
  "kernelspec": {
   "display_name": "distributed_computing",
   "language": "python",
   "name": "distributed_computing"
  },
  "language_info": {
   "codemirror_mode": {
    "name": "ipython",
    "version": 3
   },
   "file_extension": ".py",
   "mimetype": "text/x-python",
   "name": "python",
   "nbconvert_exporter": "python",
   "pygments_lexer": "ipython3",
   "version": "3.7.4"
  }
 },
 "nbformat": 4,
 "nbformat_minor": 2
}
