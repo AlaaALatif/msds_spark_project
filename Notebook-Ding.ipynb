{
 "cells": [
  {
   "cell_type": "code",
   "execution_count": 1,
   "metadata": {},
   "outputs": [
    {
     "data": {
      "application/vnd.jupyter.widget-view+json": {
       "model_id": "87ceef45e13e455384ff61c0f12b0eb3",
       "version_major": 2,
       "version_minor": 0
      },
      "text/plain": [
       "VBox()"
      ]
     },
     "metadata": {},
     "output_type": "display_data"
    },
    {
     "name": "stdout",
     "output_type": "stream",
     "text": [
      "Starting Spark application\n"
     ]
    },
    {
     "data": {
      "text/html": [
       "<table>\n",
       "<tr><th>ID</th><th>YARN Application ID</th><th>Kind</th><th>State</th><th>Spark UI</th><th>Driver log</th><th>Current session?</th></tr><tr><td>21</td><td>application_1579201521534_0022</td><td>pyspark</td><td>idle</td><td><a target=\"_blank\" href=\"http://ip-172-31-26-195.us-west-2.compute.internal:20888/proxy/application_1579201521534_0022/\">Link</a></td><td><a target=\"_blank\" href=\"http://ip-172-31-29-123.us-west-2.compute.internal:8042/node/containerlogs/container_1579201521534_0022_01_000001/livy\">Link</a></td><td>✔</td></tr></table>"
      ],
      "text/plain": [
       "<IPython.core.display.HTML object>"
      ]
     },
     "metadata": {},
     "output_type": "display_data"
    },
    {
     "data": {
      "application/vnd.jupyter.widget-view+json": {
       "model_id": "",
       "version_major": 2,
       "version_minor": 0
      },
      "text/plain": [
       "FloatProgress(value=0.0, bar_style='info', description='Progress:', layout=Layout(height='25px', width='50%'),…"
      ]
     },
     "metadata": {},
     "output_type": "display_data"
    },
    {
     "name": "stdout",
     "output_type": "stream",
     "text": [
      "SparkSession available as 'spark'.\n"
     ]
    },
    {
     "data": {
      "application/vnd.jupyter.widget-view+json": {
       "model_id": "",
       "version_major": 2,
       "version_minor": 0
      },
      "text/plain": [
       "FloatProgress(value=0.0, bar_style='info', description='Progress:', layout=Layout(height='25px', width='50%'),…"
      ]
     },
     "metadata": {},
     "output_type": "display_data"
    },
    {
     "name": "stdout",
     "output_type": "stream",
     "text": [
      "<SparkContext master=yarn appName=livy-session-21>"
     ]
    }
   ],
   "source": [
    "sc"
   ]
  },
  {
   "cell_type": "code",
   "execution_count": 2,
   "metadata": {},
   "outputs": [
    {
     "data": {
      "application/vnd.jupyter.widget-view+json": {
       "model_id": "8d611e5ebffb4769a313a9e8af389512",
       "version_major": 2,
       "version_minor": 0
      },
      "text/plain": [
       "VBox()"
      ]
     },
     "metadata": {},
     "output_type": "display_data"
    },
    {
     "data": {
      "application/vnd.jupyter.widget-view+json": {
       "model_id": "",
       "version_major": 2,
       "version_minor": 0
      },
      "text/plain": [
       "FloatProgress(value=0.0, bar_style='info', description='Progress:', layout=Layout(height='25px', width='50%'),…"
      ]
     },
     "metadata": {},
     "output_type": "display_data"
    },
    {
     "name": "stdout",
     "output_type": "stream",
     "text": [
      "Processing /var/lib/livy/.cache/pip/wheels/0d/2f/d2/7e0c36c53b57ca597430858ab3d72e1a612a10780016ff6765/h2o_pysparkling_2.4-3.28.0.1.post1-py2.py3-none-any.whl\n",
      "Requirement already satisfied: numpy>=1.9.2 in /usr/local/lib64/python3.6/site-packages (from h2o-pysparkling-2.4) (1.14.5)\n",
      "Processing /var/lib/livy/.cache/pip/wheels/9c/9b/f4/eb243fdb89676ec00588e8c54bb54360724c06e7fafe95278e/tabulate-0.8.6-cp36-none-any.whl\n",
      "Processing /var/lib/livy/.cache/pip/wheels/ab/09/4d/0d184230058e654eb1b04467dbc1292f00eaa186544604b471/pyspark-2.4.4-py2.py3-none-any.whl\n",
      "Collecting colorama>=0.3.8\n",
      "  Using cached https://files.pythonhosted.org/packages/c9/dc/45cdef1b4d119eb96316b3117e6d5708a08029992b2fee2c143c7a0a5cc5/colorama-0.4.3-py2.py3-none-any.whl\n",
      "Collecting requests\n",
      "  Using cached https://files.pythonhosted.org/packages/51/bd/23c926cd341ea6b7dd0b2a00aba99ae0f828be89d72b2190f27c11d4b7fb/requests-2.22.0-py2.py3-none-any.whl\n",
      "Processing /var/lib/livy/.cache/pip/wheels/8b/99/a0/81daf51dcd359a9377b110a8a886b3895921802d2fc1b2397e/future-0.18.2-cp36-none-any.whl\n",
      "Collecting py4j==0.10.7\n",
      "  Using cached https://files.pythonhosted.org/packages/e3/53/c737818eb9a7dc32a7cd4f1396e787bd94200c3997c72c1dbe028587bd76/py4j-0.10.7-py2.py3-none-any.whl\n",
      "Collecting idna<2.9,>=2.5\n",
      "  Using cached https://files.pythonhosted.org/packages/14/2c/cd551d81dbe15200be1cf41cd03869a46fe7226e7450af7a6545bfc474c9/idna-2.8-py2.py3-none-any.whl\n",
      "Collecting certifi>=2017.4.17\n",
      "  Using cached https://files.pythonhosted.org/packages/b9/63/df50cac98ea0d5b006c55a399c3bf1db9da7b5a24de7890bc9cfd5dd9e99/certifi-2019.11.28-py2.py3-none-any.whl\n",
      "Collecting urllib3!=1.25.0,!=1.25.1,<1.26,>=1.21.1\n",
      "  Using cached https://files.pythonhosted.org/packages/b4/40/a9837291310ee1ccc242ceb6ebfd9eb21539649f193a7c8c86ba15b98539/urllib3-1.25.7-py2.py3-none-any.whl\n",
      "Collecting chardet<3.1.0,>=3.0.2\n",
      "  Using cached https://files.pythonhosted.org/packages/bc/a9/01ffebfb562e4274b6487b4bb1ddec7ca55ec7510b22e4c51f14098443b8/chardet-3.0.4-py2.py3-none-any.whl\n",
      "Installing collected packages: tabulate, py4j, pyspark, colorama, idna, certifi, urllib3, chardet, requests, future, h2o-pysparkling-2.4\n",
      "Successfully installed certifi-2019.11.28 chardet-3.0.4 colorama-0.4.3 future-0.18.2 h2o-pysparkling-2.4-3.28.0.1.post1 idna-2.8 py4j-0.10.7 pyspark-2.4.4 requests-2.22.0 tabulate-0.8.6 urllib3-1.25.7\n",
      "\n",
      "Processing /var/lib/livy/.cache/pip/wheels/ff/82/f4/3fe9c895b93c53b25ae44dc44aa54dad571c711f48bc485fe9/h2o-3.28.0.1-py2.py3-none-any.whl\n",
      "Requirement already satisfied: tabulate in /mnt/tmp/1579219365881-0/lib/python3.6/site-packages (from h2o) (0.8.6)\n",
      "Requirement already satisfied: colorama>=0.3.8 in /mnt/tmp/1579219365881-0/lib/python3.6/site-packages (from h2o) (0.4.3)\n",
      "Requirement already satisfied: requests in /mnt/tmp/1579219365881-0/lib/python3.6/site-packages (from h2o) (2.22.0)\n",
      "Requirement already satisfied: future in /mnt/tmp/1579219365881-0/lib/python3.6/site-packages (from h2o) (0.18.2)\n",
      "Requirement already satisfied: idna<2.9,>=2.5 in /mnt/tmp/1579219365881-0/lib/python3.6/site-packages (from requests->h2o) (2.8)\n",
      "Requirement already satisfied: certifi>=2017.4.17 in /mnt/tmp/1579219365881-0/lib/python3.6/site-packages (from requests->h2o) (2019.11.28)\n",
      "Requirement already satisfied: urllib3!=1.25.0,!=1.25.1,<1.26,>=1.21.1 in /mnt/tmp/1579219365881-0/lib/python3.6/site-packages (from requests->h2o) (1.25.7)\n",
      "Requirement already satisfied: chardet<3.1.0,>=3.0.2 in /mnt/tmp/1579219365881-0/lib/python3.6/site-packages (from requests->h2o) (3.0.4)\n",
      "Installing collected packages: h2o\n",
      "Successfully installed h2o-3.28.0.1\n",
      "\n",
      "ERROR: python36-sagemaker-pyspark 1.2.6 has requirement pyspark==2.3.2, but you'll have pyspark 2.4.4 which is incompatible."
     ]
    }
   ],
   "source": [
    "sc.install_pypi_package(\"h2o-pysparkling-2.4\")\n",
    "sc.install_pypi_package(\"h2o\")"
   ]
  },
  {
   "cell_type": "markdown",
   "metadata": {},
   "source": [
    "## H2O "
   ]
  },
  {
   "cell_type": "code",
   "execution_count": 4,
   "metadata": {},
   "outputs": [
    {
     "name": "stdout",
     "output_type": "stream",
     "text": [
      "\n",
      "Sparkling Water Context:\n",
      " * Sparkling Water Version: 3.28.0.1-1-2.4\n",
      " * H2O name: sparkling-water-alaa_local-1579237463943\n",
      " * cluster size: 1\n",
      " * list of used nodes:\n",
      "  (executorId, host, port)\n",
      "  ------------------------\n",
      "  (driver,10.1.128.248,54323)\n",
      "  ------------------------\n",
      "\n",
      "  Open H2O Flow in browser: http://10.1.128.248:54323 (CMD + click in Mac OSX)\n",
      "\n",
      "    \n"
     ]
    }
   ],
   "source": [
    "from pyspark import SparkContext\n",
    "from pyspark.sql import SparkSession\n",
    "from pyspark.sql.functions import lit\n",
    "from pysparkling import *\n",
    "from h2o.automl import H2OAutoML\n",
    "\n",
    "import pyspark\n",
    "import h2o\n",
    "\n",
    "sc = SparkContext.getOrCreate()\n",
    "\n",
    "ss = pyspark.sql.SparkSession.builder.getOrCreate()\n",
    "\n",
    "hc = H2OContext.getOrCreate(ss)"
   ]
  },
  {
   "cell_type": "code",
   "execution_count": 5,
   "metadata": {},
   "outputs": [],
   "source": [
    "fname = \"Wrist/S_2.csv\"\n",
    "wrist = sc.textFile(fname)\n",
    "wrist = ss.read.csv(wrist, header=True, inferSchema=True)"
   ]
  },
  {
   "cell_type": "code",
   "execution_count": 6,
   "metadata": {},
   "outputs": [
    {
     "name": "stdout",
     "output_type": "stream",
     "text": [
      "+--------------------+-----+-----+-----+-----+------+--------+-----+\n",
      "|                 _c0|label|ACC_0|ACC_1|ACC_2|   BVP|     EDA| TEMP|\n",
      "+--------------------+-----+-----+-----+-----+------+--------+-----+\n",
      "|                 0.0|  0.0| 62.0|-21.0|107.0|-59.37|1.138257|35.41|\n",
      "|0.001428571428571...|  0.0| null| null| null|  null|    null| null|\n",
      "|0.002857142857142857|  0.0| null| null| null|  null|    null| null|\n",
      "|0.004285714285714286|  0.0| null| null| null|  null|    null| null|\n",
      "|0.005714285714285714|  0.0| null| null| null|  null|    null| null|\n",
      "+--------------------+-----+-----+-----+-----+------+--------+-----+\n",
      "only showing top 5 rows\n",
      "\n"
     ]
    }
   ],
   "source": [
    "wrist.show(5)"
   ]
  },
  {
   "cell_type": "code",
   "execution_count": 7,
   "metadata": {},
   "outputs": [],
   "source": [
    "def clean_df(df, sub_id):\n",
    "    df = df.filter(df.TEMP.isNotNull())\n",
    "    df = df.withColumn('sub_id', lit(f'S_{sub_id}'))\n",
    "    df = df.filter(df.label.isin([1,2,3]))\n",
    "    return df"
   ]
  },
  {
   "cell_type": "code",
   "execution_count": 8,
   "metadata": {},
   "outputs": [],
   "source": [
    "wrist = clean_df(wrist, 2)"
   ]
  },
  {
   "cell_type": "code",
   "execution_count": 9,
   "metadata": {},
   "outputs": [
    {
     "name": "stdout",
     "output_type": "stream",
     "text": [
      "+------+-----+-----+-----+-----+------+--------+-----+------+\n",
      "|   _c0|label|ACC_0|ACC_1|ACC_2|   BVP|     EDA| TEMP|sub_id|\n",
      "+------+-----+-----+-----+-----+------+--------+-----+------+\n",
      "|306.75|  1.0| 65.0| 12.0| 21.0|-33.58|1.640539|35.81|   S_2|\n",
      "| 307.0|  1.0| 55.0|-32.0| 44.0| 30.52|1.634132|35.81|   S_2|\n",
      "|307.25|  1.0| 49.0|-21.0| 30.0| 52.54|1.614912|35.81|   S_2|\n",
      "| 307.5|  1.0| 52.0|-22.0| 27.0| 94.31|1.591848|35.81|   S_2|\n",
      "|307.75|  1.0| 58.0|-14.0| 28.0|-38.86|1.558534|35.81|   S_2|\n",
      "+------+-----+-----+-----+-----+------+--------+-----+------+\n",
      "only showing top 5 rows\n",
      "\n"
     ]
    }
   ],
   "source": [
    "wrist.show(5)"
   ]
  },
  {
   "cell_type": "code",
   "execution_count": 10,
   "metadata": {},
   "outputs": [],
   "source": [
    "nums = [2, 3, 4, 5, 6, 7, 8, 9, 10, 11, 13, 14, 15, 16, 17]"
   ]
  },
  {
   "cell_type": "code",
   "execution_count": 12,
   "metadata": {},
   "outputs": [
    {
     "data": {
      "text/plain": [
       "DataFrame[_c0: double, label: double, ACC_0: double, ACC_1: double, ACC_2: double, BVP: double, EDA: double, TEMP: double, sub_id: string]"
      ]
     },
     "execution_count": 12,
     "metadata": {},
     "output_type": "execute_result"
    }
   ],
   "source": [
    "wrists = wrist\n",
    "for i in nums[1:]:\n",
    "    wrist = ss.read.csv(f'Wrist/S_{i}.csv', header=True, inferSchema=True)\n",
    "    wrist = clean_df(wrist, i)\n",
    "    wrists = wrists.union(wrist)\n",
    "wrists.cache()"
   ]
  },
  {
   "cell_type": "code",
   "execution_count": 13,
   "metadata": {},
   "outputs": [
    {
     "data": {
      "text/plain": [
       "132608"
      ]
     },
     "execution_count": 13,
     "metadata": {},
     "output_type": "execute_result"
    }
   ],
   "source": [
    "wrists.count()"
   ]
  },
  {
   "cell_type": "markdown",
   "metadata": {},
   "source": [
    "## Splitting"
   ]
  },
  {
   "cell_type": "code",
   "execution_count": 14,
   "metadata": {},
   "outputs": [],
   "source": [
    "chest_path = 'Chest/'\n",
    "wrist_path = 'Wrist/'\n",
    "nums = [2, 3, 4, 5, 6, 7, 8, 9, 10, 11, 13, 14, 15, 16, 17]"
   ]
  },
  {
   "cell_type": "code",
   "execution_count": 15,
   "metadata": {},
   "outputs": [],
   "source": [
    "chest = ss.read.csv(chest_path+'S_2.csv', header=True, inferSchema=True)"
   ]
  },
  {
   "cell_type": "code",
   "execution_count": 16,
   "metadata": {},
   "outputs": [],
   "source": [
    "wrist = ss.read.csv(wrist_path+'S_2.csv', header=True, inferSchema=True)"
   ]
  },
  {
   "cell_type": "code",
   "execution_count": 17,
   "metadata": {},
   "outputs": [],
   "source": [
    "def clean_df(df):\n",
    "    df = df.filter(df.TEMP.isNotNull())\n",
    "    return df"
   ]
  },
  {
   "cell_type": "code",
   "execution_count": 18,
   "metadata": {},
   "outputs": [],
   "source": [
    "def combine(wrist, chest):\n",
    "    chest = chest.drop('_c0')\n",
    "    wrist = wrist.withColumnRenamed('_c0', 'col_1')\n",
    "    wrist = clean_df(wrist)\n",
    "    joined = chest.join(wrist, 'col_1')\n",
    "    joined = joined.filter(joined.label.isin([1,2,3]))\n",
    "    return joined"
   ]
  },
  {
   "cell_type": "markdown",
   "metadata": {},
   "source": [
    "## Chest+Wrist"
   ]
  },
  {
   "cell_type": "code",
   "execution_count": 19,
   "metadata": {},
   "outputs": [],
   "source": [
    "chest = ss.read.csv(f\"{chest_path}S_2.csv\", header=True, inferSchema=True)\n",
    "wrist = ss.read.csv(f\"{wrist_path}S_2.csv\", header=True, inferSchema=True)\n",
    "wrist = wrist.drop('label')\n",
    "all_data = combine(wrist, chest)\n",
    "all_data = all_data.filter(all_data.label.isin([1, 2, 3]))"
   ]
  },
  {
   "cell_type": "code",
   "execution_count": 20,
   "metadata": {},
   "outputs": [
    {
     "data": {
      "text/plain": [
       "DataFrame[col_1: double, label: int, sub_id: string, chest_ACC_1: double, chest_ACC_2: double, chest_ACC_3: double, chest_ECG: double, chest_EMG: double, chest_EDA: double, chest_Temp: double, chest_Resp: double, ACC_0: double, ACC_1: double, ACC_2: double, BVP: double, EDA: double, TEMP: double]"
      ]
     },
     "execution_count": 20,
     "metadata": {},
     "output_type": "execute_result"
    }
   ],
   "source": [
    "for sub_id in nums[1:]:\n",
    "    chest = ss.read.csv(f\"{chest_path}S_{sub_id}.csv\", header=True, inferSchema=True)\n",
    "    wrist = ss.read.csv(f\"{wrist_path}S_{sub_id}.csv\", header=True, inferSchema=True)\n",
    "    wrist = wrist.drop('label')\n",
    "    joined = combine(wrist, chest)\n",
    "    joined = joined.filter(joined.label.isin([1, 2, 3]))\n",
    "    all_data = all_data.union(joined)\n",
    "all_data.cache()"
   ]
  },
  {
   "cell_type": "code",
   "execution_count": 21,
   "metadata": {},
   "outputs": [
    {
     "data": {
      "text/plain": [
       "132608"
      ]
     },
     "execution_count": 21,
     "metadata": {},
     "output_type": "execute_result"
    }
   ],
   "source": [
    "all_data.count()"
   ]
  },
  {
   "cell_type": "code",
   "execution_count": 22,
   "metadata": {},
   "outputs": [
    {
     "data": {
      "text/plain": [
       "['col_1',\n",
       " 'label',\n",
       " 'sub_id',\n",
       " 'chest_ACC_1',\n",
       " 'chest_ACC_2',\n",
       " 'chest_ACC_3',\n",
       " 'chest_ECG',\n",
       " 'chest_EMG',\n",
       " 'chest_EDA',\n",
       " 'chest_Temp',\n",
       " 'chest_Resp',\n",
       " 'ACC_0',\n",
       " 'ACC_1',\n",
       " 'ACC_2',\n",
       " 'BVP',\n",
       " 'EDA',\n",
       " 'TEMP']"
      ]
     },
     "execution_count": 22,
     "metadata": {},
     "output_type": "execute_result"
    }
   ],
   "source": [
    "all_data.columns"
   ]
  },
  {
   "cell_type": "code",
   "execution_count": 23,
   "metadata": {},
   "outputs": [],
   "source": [
    "# data_split = all_data.randomSplit([.8, .2], seed=2) \n",
    "train_data = all_data.filter(all_data.sub_id != \"S17\").cache()\n",
    "test_data = all_data.filter(all_data.sub_id == \"S17\").cache()"
   ]
  },
  {
   "cell_type": "code",
   "execution_count": 24,
   "metadata": {},
   "outputs": [
    {
     "data": {
      "text/plain": [
       "123504"
      ]
     },
     "execution_count": 24,
     "metadata": {},
     "output_type": "execute_result"
    }
   ],
   "source": [
    "train_data.count()"
   ]
  },
  {
   "cell_type": "code",
   "execution_count": 25,
   "metadata": {},
   "outputs": [
    {
     "data": {
      "text/plain": [
       "9104"
      ]
     },
     "execution_count": 25,
     "metadata": {},
     "output_type": "execute_result"
    }
   ],
   "source": [
    "test_data.count()"
   ]
  },
  {
   "cell_type": "code",
   "execution_count": 20,
   "metadata": {},
   "outputs": [
    {
     "data": {
      "application/vnd.jupyter.widget-view+json": {
       "model_id": "b48baaa6e6584cd6812f698595f57a2e",
       "version_major": 2,
       "version_minor": 0
      },
      "text/plain": [
       "VBox()"
      ]
     },
     "metadata": {},
     "output_type": "display_data"
    },
    {
     "data": {
      "application/vnd.jupyter.widget-view+json": {
       "model_id": "",
       "version_major": 2,
       "version_minor": 0
      },
      "text/plain": [
       "FloatProgress(value=0.0, bar_style='info', description='Progress:', layout=Layout(height='25px', width='50%'),…"
      ]
     },
     "metadata": {},
     "output_type": "display_data"
    }
   ],
   "source": [
    "# test_data.write.option('path', '/testdata_d').saveAsTable('testdata_d')"
   ]
  },
  {
   "cell_type": "code",
   "execution_count": 55,
   "metadata": {},
   "outputs": [
    {
     "data": {
      "application/vnd.jupyter.widget-view+json": {
       "model_id": "60f4ede9df084e44b4c005872e622fe1",
       "version_major": 2,
       "version_minor": 0
      },
      "text/plain": [
       "VBox()"
      ]
     },
     "metadata": {},
     "output_type": "display_data"
    },
    {
     "data": {
      "application/vnd.jupyter.widget-view+json": {
       "model_id": "",
       "version_major": 2,
       "version_minor": 0
      },
      "text/plain": [
       "FloatProgress(value=0.0, bar_style='info', description='Progress:', layout=Layout(height='25px', width='50%'),…"
      ]
     },
     "metadata": {},
     "output_type": "display_data"
    }
   ],
   "source": [
    "# train_data = all_data.join(test_data, ['sub_id', 'col_1'], 'leftanti')"
   ]
  },
  {
   "cell_type": "code",
   "execution_count": 56,
   "metadata": {},
   "outputs": [
    {
     "data": {
      "application/vnd.jupyter.widget-view+json": {
       "model_id": "0df32deddb824258a3084c358b33187a",
       "version_major": 2,
       "version_minor": 0
      },
      "text/plain": [
       "VBox()"
      ]
     },
     "metadata": {},
     "output_type": "display_data"
    },
    {
     "data": {
      "application/vnd.jupyter.widget-view+json": {
       "model_id": "",
       "version_major": 2,
       "version_minor": 0
      },
      "text/plain": [
       "FloatProgress(value=0.0, bar_style='info', description='Progress:', layout=Layout(height='25px', width='50%'),…"
      ]
     },
     "metadata": {},
     "output_type": "display_data"
    }
   ],
   "source": [
    "# train_data.show(5)"
   ]
  },
  {
   "cell_type": "code",
   "execution_count": 26,
   "metadata": {},
   "outputs": [],
   "source": [
    "train_h2o = hc.as_h2o_frame(train_data, \"train_data\")"
   ]
  },
  {
   "cell_type": "code",
   "execution_count": 27,
   "metadata": {},
   "outputs": [],
   "source": [
    "test_h2o = hc.as_h2o_frame(test_data, \"test_data\")"
   ]
  },
  {
   "cell_type": "code",
   "execution_count": 28,
   "metadata": {},
   "outputs": [
    {
     "data": {
      "text/html": [
       "<div>\n",
       "<style scoped>\n",
       "    .dataframe tbody tr th:only-of-type {\n",
       "        vertical-align: middle;\n",
       "    }\n",
       "\n",
       "    .dataframe tbody tr th {\n",
       "        vertical-align: top;\n",
       "    }\n",
       "\n",
       "    .dataframe thead th {\n",
       "        text-align: right;\n",
       "    }\n",
       "</style>\n",
       "<table border=\"1\" class=\"dataframe\">\n",
       "  <thead>\n",
       "    <tr style=\"text-align: right;\">\n",
       "      <th></th>\n",
       "      <th>col_1</th>\n",
       "      <th>label</th>\n",
       "      <th>sub_id</th>\n",
       "      <th>chest_ACC_1</th>\n",
       "      <th>chest_ACC_2</th>\n",
       "      <th>chest_ACC_3</th>\n",
       "      <th>chest_ECG</th>\n",
       "      <th>chest_EMG</th>\n",
       "      <th>chest_EDA</th>\n",
       "      <th>chest_Temp</th>\n",
       "      <th>chest_Resp</th>\n",
       "      <th>ACC_0</th>\n",
       "      <th>ACC_1</th>\n",
       "      <th>ACC_2</th>\n",
       "      <th>BVP</th>\n",
       "      <th>EDA</th>\n",
       "      <th>TEMP</th>\n",
       "    </tr>\n",
       "  </thead>\n",
       "  <tbody>\n",
       "    <tr>\n",
       "      <th>0</th>\n",
       "      <td>315.75</td>\n",
       "      <td>1</td>\n",
       "      <td>S2</td>\n",
       "      <td>0.8648</td>\n",
       "      <td>-0.1346</td>\n",
       "      <td>-0.3182</td>\n",
       "      <td>-0.115402</td>\n",
       "      <td>0.027420</td>\n",
       "      <td>5.186844</td>\n",
       "      <td>29.211609</td>\n",
       "      <td>-0.660706</td>\n",
       "      <td>43</td>\n",
       "      <td>-22</td>\n",
       "      <td>41</td>\n",
       "      <td>-75.90</td>\n",
       "      <td>1.477810</td>\n",
       "      <td>35.81</td>\n",
       "    </tr>\n",
       "    <tr>\n",
       "      <th>1</th>\n",
       "      <td>367.25</td>\n",
       "      <td>1</td>\n",
       "      <td>S2</td>\n",
       "      <td>0.6258</td>\n",
       "      <td>-0.1080</td>\n",
       "      <td>-0.7046</td>\n",
       "      <td>0.015610</td>\n",
       "      <td>0.007736</td>\n",
       "      <td>4.504395</td>\n",
       "      <td>28.978760</td>\n",
       "      <td>-1.153564</td>\n",
       "      <td>21</td>\n",
       "      <td>12</td>\n",
       "      <td>59</td>\n",
       "      <td>-17.96</td>\n",
       "      <td>1.120318</td>\n",
       "      <td>35.73</td>\n",
       "    </tr>\n",
       "    <tr>\n",
       "      <th>2</th>\n",
       "      <td>451.50</td>\n",
       "      <td>1</td>\n",
       "      <td>S2</td>\n",
       "      <td>0.6118</td>\n",
       "      <td>-0.1064</td>\n",
       "      <td>-0.7148</td>\n",
       "      <td>0.064133</td>\n",
       "      <td>-0.011765</td>\n",
       "      <td>3.512955</td>\n",
       "      <td>28.819489</td>\n",
       "      <td>2.272034</td>\n",
       "      <td>40</td>\n",
       "      <td>37</td>\n",
       "      <td>33</td>\n",
       "      <td>-2.50</td>\n",
       "      <td>0.561559</td>\n",
       "      <td>35.79</td>\n",
       "    </tr>\n",
       "    <tr>\n",
       "      <th>3</th>\n",
       "      <td>496.00</td>\n",
       "      <td>1</td>\n",
       "      <td>S2</td>\n",
       "      <td>0.6484</td>\n",
       "      <td>-0.0554</td>\n",
       "      <td>-0.6788</td>\n",
       "      <td>0.004807</td>\n",
       "      <td>-0.013275</td>\n",
       "      <td>3.224945</td>\n",
       "      <td>28.808044</td>\n",
       "      <td>-1.458740</td>\n",
       "      <td>56</td>\n",
       "      <td>23</td>\n",
       "      <td>22</td>\n",
       "      <td>-6.04</td>\n",
       "      <td>0.500055</td>\n",
       "      <td>35.87</td>\n",
       "    </tr>\n",
       "    <tr>\n",
       "      <th>4</th>\n",
       "      <td>548.25</td>\n",
       "      <td>1</td>\n",
       "      <td>S2</td>\n",
       "      <td>0.6510</td>\n",
       "      <td>-0.0616</td>\n",
       "      <td>-0.6818</td>\n",
       "      <td>-0.200821</td>\n",
       "      <td>-0.005539</td>\n",
       "      <td>2.758408</td>\n",
       "      <td>28.558930</td>\n",
       "      <td>-1.301575</td>\n",
       "      <td>54</td>\n",
       "      <td>26</td>\n",
       "      <td>20</td>\n",
       "      <td>13.59</td>\n",
       "      <td>0.470515</td>\n",
       "      <td>35.79</td>\n",
       "    </tr>\n",
       "    <tr>\n",
       "      <th>5</th>\n",
       "      <td>558.00</td>\n",
       "      <td>1</td>\n",
       "      <td>S2</td>\n",
       "      <td>0.6398</td>\n",
       "      <td>-0.0626</td>\n",
       "      <td>-0.7010</td>\n",
       "      <td>0.047287</td>\n",
       "      <td>-0.007141</td>\n",
       "      <td>2.700424</td>\n",
       "      <td>28.533203</td>\n",
       "      <td>1.930237</td>\n",
       "      <td>53</td>\n",
       "      <td>26</td>\n",
       "      <td>20</td>\n",
       "      <td>-20.01</td>\n",
       "      <td>0.447451</td>\n",
       "      <td>35.79</td>\n",
       "    </tr>\n",
       "    <tr>\n",
       "      <th>6</th>\n",
       "      <td>558.50</td>\n",
       "      <td>1</td>\n",
       "      <td>S2</td>\n",
       "      <td>0.6410</td>\n",
       "      <td>-0.0654</td>\n",
       "      <td>-0.7046</td>\n",
       "      <td>0.080795</td>\n",
       "      <td>0.000687</td>\n",
       "      <td>2.692413</td>\n",
       "      <td>28.556091</td>\n",
       "      <td>0.788879</td>\n",
       "      <td>55</td>\n",
       "      <td>26</td>\n",
       "      <td>20</td>\n",
       "      <td>8.54</td>\n",
       "      <td>0.446170</td>\n",
       "      <td>35.79</td>\n",
       "    </tr>\n",
       "    <tr>\n",
       "      <th>7</th>\n",
       "      <td>596.00</td>\n",
       "      <td>1</td>\n",
       "      <td>S2</td>\n",
       "      <td>0.6254</td>\n",
       "      <td>-0.0702</td>\n",
       "      <td>-0.6902</td>\n",
       "      <td>-0.192673</td>\n",
       "      <td>-0.016068</td>\n",
       "      <td>2.458572</td>\n",
       "      <td>28.706299</td>\n",
       "      <td>-0.204468</td>\n",
       "      <td>59</td>\n",
       "      <td>18</td>\n",
       "      <td>16</td>\n",
       "      <td>83.41</td>\n",
       "      <td>0.378260</td>\n",
       "      <td>35.87</td>\n",
       "    </tr>\n",
       "    <tr>\n",
       "      <th>8</th>\n",
       "      <td>608.25</td>\n",
       "      <td>1</td>\n",
       "      <td>S2</td>\n",
       "      <td>0.6290</td>\n",
       "      <td>-0.0696</td>\n",
       "      <td>-0.7110</td>\n",
       "      <td>0.051865</td>\n",
       "      <td>-0.004944</td>\n",
       "      <td>2.391815</td>\n",
       "      <td>28.647644</td>\n",
       "      <td>1.274109</td>\n",
       "      <td>11</td>\n",
       "      <td>10</td>\n",
       "      <td>62</td>\n",
       "      <td>-42.60</td>\n",
       "      <td>0.379541</td>\n",
       "      <td>35.89</td>\n",
       "    </tr>\n",
       "    <tr>\n",
       "      <th>9</th>\n",
       "      <td>672.25</td>\n",
       "      <td>1</td>\n",
       "      <td>S2</td>\n",
       "      <td>0.6328</td>\n",
       "      <td>-0.0654</td>\n",
       "      <td>-0.7138</td>\n",
       "      <td>0.016434</td>\n",
       "      <td>0.000824</td>\n",
       "      <td>2.125168</td>\n",
       "      <td>28.397430</td>\n",
       "      <td>-0.512695</td>\n",
       "      <td>57</td>\n",
       "      <td>-6</td>\n",
       "      <td>-1</td>\n",
       "      <td>108.84</td>\n",
       "      <td>0.291129</td>\n",
       "      <td>35.79</td>\n",
       "    </tr>\n",
       "  </tbody>\n",
       "</table>\n",
       "</div>"
      ],
      "text/plain": [
       "    col_1  label sub_id  chest_ACC_1  chest_ACC_2  chest_ACC_3  chest_ECG  \\\n",
       "0  315.75      1     S2       0.8648      -0.1346      -0.3182  -0.115402   \n",
       "1  367.25      1     S2       0.6258      -0.1080      -0.7046   0.015610   \n",
       "2  451.50      1     S2       0.6118      -0.1064      -0.7148   0.064133   \n",
       "3  496.00      1     S2       0.6484      -0.0554      -0.6788   0.004807   \n",
       "4  548.25      1     S2       0.6510      -0.0616      -0.6818  -0.200821   \n",
       "5  558.00      1     S2       0.6398      -0.0626      -0.7010   0.047287   \n",
       "6  558.50      1     S2       0.6410      -0.0654      -0.7046   0.080795   \n",
       "7  596.00      1     S2       0.6254      -0.0702      -0.6902  -0.192673   \n",
       "8  608.25      1     S2       0.6290      -0.0696      -0.7110   0.051865   \n",
       "9  672.25      1     S2       0.6328      -0.0654      -0.7138   0.016434   \n",
       "\n",
       "   chest_EMG  chest_EDA  chest_Temp  chest_Resp  ACC_0  ACC_1  ACC_2     BVP  \\\n",
       "0   0.027420   5.186844   29.211609   -0.660706     43    -22     41  -75.90   \n",
       "1   0.007736   4.504395   28.978760   -1.153564     21     12     59  -17.96   \n",
       "2  -0.011765   3.512955   28.819489    2.272034     40     37     33   -2.50   \n",
       "3  -0.013275   3.224945   28.808044   -1.458740     56     23     22   -6.04   \n",
       "4  -0.005539   2.758408   28.558930   -1.301575     54     26     20   13.59   \n",
       "5  -0.007141   2.700424   28.533203    1.930237     53     26     20  -20.01   \n",
       "6   0.000687   2.692413   28.556091    0.788879     55     26     20    8.54   \n",
       "7  -0.016068   2.458572   28.706299   -0.204468     59     18     16   83.41   \n",
       "8  -0.004944   2.391815   28.647644    1.274109     11     10     62  -42.60   \n",
       "9   0.000824   2.125168   28.397430   -0.512695     57     -6     -1  108.84   \n",
       "\n",
       "        EDA   TEMP  \n",
       "0  1.477810  35.81  \n",
       "1  1.120318  35.73  \n",
       "2  0.561559  35.79  \n",
       "3  0.500055  35.87  \n",
       "4  0.470515  35.79  \n",
       "5  0.447451  35.79  \n",
       "6  0.446170  35.79  \n",
       "7  0.378260  35.87  \n",
       "8  0.379541  35.89  \n",
       "9  0.291129  35.79  "
      ]
     },
     "metadata": {},
     "output_type": "display_data"
    }
   ],
   "source": [
    "train_h2o.show(5)"
   ]
  },
  {
   "cell_type": "code",
   "execution_count": 30,
   "metadata": {},
   "outputs": [
    {
     "data": {
      "text/plain": [
       "{'col_1': 'real',\n",
       " 'label': 'int',\n",
       " 'sub_id': 'string',\n",
       " 'chest_ACC_1': 'real',\n",
       " 'chest_ACC_2': 'real',\n",
       " 'chest_ACC_3': 'real',\n",
       " 'chest_ECG': 'real',\n",
       " 'chest_EMG': 'real',\n",
       " 'chest_EDA': 'real',\n",
       " 'chest_Temp': 'real',\n",
       " 'chest_Resp': 'real',\n",
       " 'ACC_0': 'int',\n",
       " 'ACC_1': 'int',\n",
       " 'ACC_2': 'int',\n",
       " 'BVP': 'real',\n",
       " 'EDA': 'real',\n",
       " 'TEMP': 'real'}"
      ]
     },
     "execution_count": 30,
     "metadata": {},
     "output_type": "execute_result"
    }
   ],
   "source": [
    "train_h2o.types"
   ]
  },
  {
   "cell_type": "code",
   "execution_count": 37,
   "metadata": {},
   "outputs": [],
   "source": [
    "train_h2o[\"label\"] = train_h2o[\"label\"].asfactor()\n",
    "train_h2o[\"sub_id\"] = train_h2o[\"sub_id\"].asfactor()"
   ]
  },
  {
   "cell_type": "code",
   "execution_count": 36,
   "metadata": {},
   "outputs": [],
   "source": [
    "test_h2o[\"label\"] = test_h2o[\"label\"].asfactor()\n",
    "test_h2o[\"sub_id\"] = test_h2o[\"sub_id\"].asfactor()"
   ]
  },
  {
   "cell_type": "code",
   "execution_count": 38,
   "metadata": {},
   "outputs": [],
   "source": [
    "predictors = train_h2o.names[:]\n",
    "predictors.remove(\"col_1\")\n",
    "response = \"label\"\n",
    "predictors.remove(response)"
   ]
  },
  {
   "cell_type": "code",
   "execution_count": 39,
   "metadata": {},
   "outputs": [],
   "source": [
    "model_automl = H2OAutoML(max_runtime_secs = 1000, seed = 2, max_models = 10)"
   ]
  },
  {
   "cell_type": "code",
   "execution_count": null,
   "metadata": {},
   "outputs": [
    {
     "name": "stdout",
     "output_type": "stream",
     "text": [
      "AutoML progress: |\n",
      "21:17:16.273: Fold column sub_id will be used for cross validation. nfolds parameter will be ignored.\n",
      "\n",
      "████████████████████████████████"
     ]
    }
   ],
   "source": [
    "model_automl.train(x=predictors,\n",
    "                   y=response,\n",
    "                   training_frame=train_h2o,\n",
    "                   validation_frame=test_h2o,\n",
    "                   fold_column=\"sub_id\")\n",
    "print(model_automl.leaderboard)"
   ]
  },
  {
   "cell_type": "code",
   "execution_count": null,
   "metadata": {},
   "outputs": [],
   "source": []
  },
  {
   "cell_type": "code",
   "execution_count": 74,
   "metadata": {
    "scrolled": false
   },
   "outputs": [
    {
     "data": {
      "application/vnd.jupyter.widget-view+json": {
       "model_id": "ec3758020ccd4718876cb98e00654c78",
       "version_major": 2,
       "version_minor": 0
      },
      "text/plain": [
       "VBox()"
      ]
     },
     "metadata": {},
     "output_type": "display_data"
    },
    {
     "data": {
      "application/vnd.jupyter.widget-view+json": {
       "model_id": "",
       "version_major": 2,
       "version_minor": 0
      },
      "text/plain": [
       "FloatProgress(value=0.0, bar_style='info', description='Progress:', layout=Layout(height='25px', width='50%'),…"
      ]
     },
     "metadata": {},
     "output_type": "display_data"
    },
    {
     "name": "stdout",
     "output_type": "stream",
     "text": [
      "Model Details\n",
      "=============\n",
      "H2OXGBoostEstimator :  XGBoost\n",
      "Model Key:  XGBoost_1_AutoML_20200117_010755\n",
      "\n",
      "\n",
      "Model Summary: \n",
      "    number_of_trees\n",
      "--  -----------------\n",
      "    91\n",
      "\n",
      "\n",
      "ModelMetricsMultinomial: xgboost\n",
      "** Reported on train data. **\n",
      "\n",
      "MSE: 0.00019910704882845388\n",
      "RMSE: 0.014110529714665353\n",
      "LogLoss: 0.011401406864344762\n",
      "Mean Per-Class Error: 5.7065034183882365e-05\n",
      "\n",
      "Confusion Matrix: Row labels: Actual class; Column labels: Predicted class\n",
      "1      2      3      Error        Rate\n",
      "-----  -----  -----  -----------  -----------\n",
      "65720  0      0      0            0 / 65,720\n",
      "1      36971  0      2.70475e-05  1 / 36,972\n",
      "3      0      20809  0.000144148  3 / 20,812\n",
      "65724  36971  20809  3.23876e-05  4 / 123,504\n",
      "\n",
      "Top-3 Hit Ratios: \n",
      "k    hit_ratio\n",
      "---  -----------\n",
      "1    0.999968\n",
      "2    1\n",
      "3    1\n",
      "\n",
      "ModelMetricsMultinomial: xgboost\n",
      "** Reported on validation data. **\n",
      "\n",
      "MSE: 0.3408622426422221\n",
      "RMSE: 0.5838340882838395\n",
      "LogLoss: 1.1751345798810509\n",
      "Mean Per-Class Error: 0.617278669607029\n",
      "\n",
      "Confusion Matrix: Row labels: Actual class; Column labels: Predicted class\n",
      "1     2     3     Error       Rate\n",
      "----  ----  ----  ----------  -------------\n",
      "4715  9     0     0.00190517  9 / 4,724\n",
      "655   434   1803  0.849931    2,458 / 2,892\n",
      "59    1429  0     1           1,488 / 1,488\n",
      "5429  1872  1803  0.434424    3,955 / 9,104\n",
      "\n",
      "Top-3 Hit Ratios: \n",
      "k    hit_ratio\n",
      "---  -----------\n",
      "1    0.565576\n",
      "2    0.712434\n",
      "3    1\n",
      "\n",
      "ModelMetricsMultinomial: xgboost\n",
      "** Reported on cross-validation data. **\n",
      "\n",
      "MSE: 0.0006233009385132729\n",
      "RMSE: 0.024965995644341384\n",
      "LogLoss: 0.01843172374911342\n",
      "Mean Per-Class Error: 0.00019341173971340402\n",
      "\n",
      "Confusion Matrix: Row labels: Actual class; Column labels: Predicted class\n",
      "1      2      3      Error        Rate\n",
      "-----  -----  -----  -----------  ------------\n",
      "65717  3      0      4.56482e-05  3 / 65,720\n",
      "2      36970  0      5.4095e-05   2 / 36,972\n",
      "5      5      20802  0.000480492  10 / 20,812\n",
      "65724  36978  20802  0.000121454  15 / 123,504\n",
      "\n",
      "Top-3 Hit Ratios: \n",
      "k    hit_ratio\n",
      "---  -----------\n",
      "1    0.999879\n",
      "2    0.999992\n",
      "3    1\n",
      "\n",
      "Cross-Validation Metrics Summary: \n",
      "                         mean         sd           cv_1_valid    cv_2_valid    cv_3_valid\n",
      "-----------------------  -----------  -----------  ------------  ------------  ------------\n",
      "accuracy                 0.999879     0.000105881  0.999927      0.999757      0.999951\n",
      "err                      0.000121454  0.000105881  7.28721e-05   0.000242907   4.85814e-05\n",
      "err_count                5            4.3589       3             10            2\n",
      "logloss                  0.0184317    0.013072     0.0279698     0.0237941     0.00353127\n",
      "max_per_class_error      0.000480529  0.000463299  0.000143968   0.00100894    0.000288684\n",
      "mean_per_class_accuracy  0.999807     0.000183995  0.999922      0.999594      0.999904\n",
      "mean_per_class_error     0.000193464  0.000183995  7.84877e-05   0.000405675   9.62279e-05\n",
      "mse                      0.000623301  0.000473472  0.000963561   0.000823769   8.25724e-05\n",
      "r2                       0.998904     0.000832819  0.998305      0.998551      0.999855\n",
      "rmse                     0.0229432    0.0120568    0.0310413     0.0287014     0.00908693\n",
      "\n",
      "Scoring History: \n",
      "    timestamp            duration           number_of_trees    training_rmse    training_logloss    training_classification_error    validation_rmse    validation_logloss    validation_classification_error\n",
      "--  -------------------  -----------------  -----------------  ---------------  ------------------  -------------------------------  -----------------  --------------------  ---------------------------------\n",
      "    2020-01-17 01:20:12  12 min 16.594 sec  0                  0.666667         1.09861             0.700641                         0.666667           1.09861               0.682337\n",
      "    2020-01-17 01:20:17  12 min 21.973 sec  5                  0.548426         0.795046            0.000170035                      0.65015            1.05417               0.462764\n",
      "    2020-01-17 01:20:23  12 min 27.610 sec  10                 0.446116         0.590769            0.000113357                      0.615547           0.96932               0.36094\n",
      "    2020-01-17 01:20:28  12 min 32.858 sec  15                 0.360341         0.446643            0.000145744                      0.594405           0.926512              0.352153\n",
      "    2020-01-17 01:20:34  12 min 38.352 sec  20                 0.28953          0.341429            0.000161938                      0.593132           0.940105              0.376538\n",
      "    2020-01-17 01:20:39  12 min 44.043 sec  25                 0.231496         0.262689            0.00012955                       0.574658           0.910018              0.350066\n",
      "    2020-01-17 01:20:45  12 min 49.900 sec  30                 0.184325         0.202894            0.000113357                      0.568067           0.903307              0.354679\n",
      "    2020-01-17 01:20:51  12 min 55.838 sec  35                 0.147051         0.157997            9.71628e-05                      0.568364           0.920633              0.378515\n",
      "    2020-01-17 01:20:57  13 min  2.037 sec  40                 0.11667          0.12283             8.90659e-05                      0.566001           0.933365              0.377307\n",
      "    2020-01-17 01:21:04  13 min  8.425 sec  45                 0.0929719        0.0961494           8.90659e-05                      0.56222            0.934451              0.362149\n",
      "    2020-01-17 01:21:11  13 min 16.036 sec  50                 0.0739433        0.0752407           8.0969e-05                       0.559434           0.94105               0.36116\n",
      "    2020-01-17 01:21:18  13 min 22.900 sec  55                 0.0590465        0.0591302           4.85814e-05                      0.559633           0.961689              0.376318\n",
      "    2020-01-17 01:21:25  13 min 29.770 sec  60                 0.047456         0.0466941           3.23876e-05                      0.560611           0.974584              0.384446\n",
      "    2020-01-17 01:21:32  13 min 36.648 sec  65                 0.0381857        0.0368858           4.04845e-05                      0.565805           1.0064                0.405316\n",
      "    2020-01-17 01:21:42  13 min 46.794 sec  70                 0.0310321        0.0292747           4.04845e-05                      0.571177           1.04348               0.415971\n",
      "    2020-01-17 01:21:51  13 min 55.369 sec  75                 0.0252122        0.0231982           3.23876e-05                      0.574101           1.07582               0.427395\n",
      "    2020-01-17 01:22:00  14 min  4.253 sec  80                 0.0209138        0.0185716           4.04845e-05                      0.574165           1.09998               0.420475\n",
      "    2020-01-17 01:22:09  14 min 13.418 sec  85                 0.0173618        0.0148358           4.04845e-05                      0.577575           1.13289               0.422122\n",
      "    2020-01-17 01:22:18  14 min 22.425 sec  90                 0.0145282        0.0118826           3.23876e-05                      0.582962           1.16508               0.432667\n",
      "    2020-01-17 01:22:26  14 min 30.816 sec  91                 0.0141105        0.0114014           3.23876e-05                      0.583834           1.17513               0.434424\n",
      "\n",
      "Variable Importances: \n",
      "variable     relative_importance    scaled_importance    percentage\n",
      "-----------  ---------------------  -------------------  ------------\n",
      "EDA          321296                 1                    0.218479\n",
      "TEMP         278919                 0.868107             0.189663\n",
      "chest_EDA    235195                 0.732019             0.159931\n",
      "chest_Temp   146689                 0.456554             0.0997474\n",
      "chest_ACC_3  103912                 0.323415             0.0706594\n",
      "ACC_2        101549                 0.31606              0.0690525\n",
      "ACC_1        81935.9                0.255017             0.0557158\n",
      "ACC_0        72848.7                0.226734             0.0495365\n",
      "chest_ACC_2  67046.9                0.208677             0.0455914\n",
      "chest_ACC_1  59563.4                0.185385             0.0405027\n",
      "chest_Resp   1131.9                 0.00352291           0.000769681\n",
      "BVP          419.25                 0.00130487           0.000285087\n",
      "chest_ECG    70.4574                0.000219291          4.79105e-05\n",
      "chest_EMG    28.5017                8.87086e-05          1.9381e-05"
     ]
    }
   ],
   "source": [
    "h2o.get_model(\"XGBoost_1_AutoML_20200117_010755\")"
   ]
  },
  {
   "cell_type": "code",
   "execution_count": 70,
   "metadata": {
    "scrolled": false
   },
   "outputs": [
    {
     "data": {
      "application/vnd.jupyter.widget-view+json": {
       "model_id": "7c26de0b45484ee7bfc3f7ae98e4b740",
       "version_major": 2,
       "version_minor": 0
      },
      "text/plain": [
       "VBox()"
      ]
     },
     "metadata": {},
     "output_type": "display_data"
    },
    {
     "data": {
      "application/vnd.jupyter.widget-view+json": {
       "model_id": "",
       "version_major": 2,
       "version_minor": 0
      },
      "text/plain": [
       "FloatProgress(value=0.0, bar_style='info', description='Progress:', layout=Layout(height='25px', width='50%'),…"
      ]
     },
     "metadata": {},
     "output_type": "display_data"
    },
    {
     "name": "stdout",
     "output_type": "stream",
     "text": [
      "drf Model Build progress: [###############################################] 100%\n",
      "Model Details\n",
      "=============\n",
      "H2ORandomForestEstimator :  Distributed Random Forest\n",
      "Model Key:  DRF_model_python_1579219406050_2\n",
      "\n",
      "\n",
      "Model Summary: \n",
      "    number_of_trees    number_of_internal_trees    model_size_in_bytes    min_depth    max_depth    mean_depth    min_leaves    max_leaves    mean_leaves\n",
      "--  -----------------  --------------------------  ---------------------  -----------  -----------  ------------  ------------  ------------  -------------\n",
      "    200                600                         2.6102e+06             13           20           18.4217       147           767           341.935\n",
      "\n",
      "\n",
      "ModelMetricsMultinomial: drf\n",
      "** Reported on train data. **\n",
      "\n",
      "MSE: 0.00022886419591212965\n",
      "RMSE: 0.015128258191613788\n",
      "LogLoss: 0.00300436814261544\n",
      "Mean Per-Class Error: 2.1088423517075277e-05\n",
      "\n",
      "Confusion Matrix: Row labels: Actual class; Column labels: Predicted class\n",
      "1      2      3      Error        Rate\n",
      "-----  -----  -----  -----------  -----------\n",
      "65719  1      0      1.52161e-05  1 / 65,720\n",
      "0      36972  0      0            0 / 36,972\n",
      "1      0      20811  4.80492e-05  1 / 20,812\n",
      "65720  36973  20811  1.61938e-05  2 / 123,504\n",
      "\n",
      "Top-3 Hit Ratios: \n",
      "k    hit_ratio\n",
      "---  -----------\n",
      "1    0.999984\n",
      "2    1\n",
      "3    1\n",
      "\n",
      "ModelMetricsMultinomial: drf\n",
      "** Reported on validation data. **\n",
      "\n",
      "MSE: 0.34361520011245705\n",
      "RMSE: 0.5861870009753347\n",
      "LogLoss: 1.397381841390256\n",
      "Mean Per-Class Error: 0.6240531755874966\n",
      "\n",
      "Confusion Matrix: Row labels: Actual class; Column labels: Predicted class\n",
      "1     2     3     Error      Rate\n",
      "----  ----  ----  ---------  -------------\n",
      "4717  7     0     0.0014818  7 / 4,724\n",
      "427   374   2091  0.870678   2,518 / 2,892\n",
      "4     1484  0     1          1,488 / 1,488\n",
      "5148  1865  2091  0.440795   4,013 / 9,104\n",
      "\n",
      "Top-3 Hit Ratios: \n",
      "k    hit_ratio\n",
      "---  -----------\n",
      "1    0.559205\n",
      "2    0.703976\n",
      "3    1\n",
      "\n",
      "Scoring History: \n",
      "     timestamp            duration          number_of_trees    training_rmse         training_logloss       training_classification_error    validation_rmse     validation_logloss    validation_classification_error\n",
      "---  -------------------  ----------------  -----------------  --------------------  ---------------------  -------------------------------  ------------------  --------------------  ---------------------------------\n",
      "     2020-01-17 01:01:24  0.004 sec         0.0                nan                   nan                    nan                              nan                 nan                   nan\n",
      "     2020-01-17 01:01:25  1.051 sec         1.0                0.05884333269894873   0.0977778533789462     0.003146660798767741             0.7584810622376087  17.097479603541743    0.5692003514938488\n",
      "     2020-01-17 01:01:26  2.106 sec         2.0                0.05605978413772394   0.08560025480312712    0.0027933337831455365            0.5943523663646353  7.666590898084439     0.44112478031634444\n",
      "     2020-01-17 01:01:27  3.112 sec         3.0                0.05230566657496008   0.0731988409620041     0.0020895813258555917            0.6009098059753122  7.671545654036924     0.46704745166959577\n",
      "     2020-01-17 01:01:28  4.028 sec         4.0                0.04715322110891053   0.056674122348413236   0.001684603684950232             0.6401584893740148  7.794559746492564     0.4716608084358524\n",
      "---  ---                  ---               ---                ---                   ---                    ---                              ---                 ---                   ---\n",
      "     2020-01-17 01:04:08  2 min 44.672 sec  166.0              0.015300500059986451  0.0029908489616529066  3.2387614976033165e-05           0.5852406275561889  1.3928283541525226    0.43321616871704743\n",
      "     2020-01-17 01:04:16  2 min 52.785 sec  174.0              0.015266881775652217  0.002993332440579228   3.2387614976033165e-05           0.587895098291292   1.4080951810424824    0.4361818980667838\n",
      "     2020-01-17 01:04:25  3 min  1.006 sec  182.0              0.015246691354596076  0.0030079985181226047  3.2387614976033165e-05           0.5849503999655102  1.3905904504766442    0.43233743409490333\n",
      "     2020-01-17 01:04:34  3 min 10.107 sec  191.0              0.015140080166002047  0.002995677679643618   2.4290711232024873e-05           0.5876953669768016  1.4056045277824543    0.43936731107205623\n",
      "     2020-01-17 01:04:43  3 min 19.188 sec  200.0              0.015128258191613788  0.00300436814261544    1.6193807488016582e-05           0.5861870009753347  1.397381841390256     0.44079525483304044\n",
      "\n",
      "Variable Importances: \n",
      "variable     relative_importance    scaled_importance    percentage\n",
      "-----------  ---------------------  -------------------  ------------\n",
      "EDA          1.79952e+06            1                    0.18262\n",
      "TEMP         1.70004e+06            0.944719             0.172524\n",
      "chest_EDA    1.44134e+06            0.800955             0.14627\n",
      "chest_Temp   1.13499e+06            0.63072              0.115182\n",
      "chest_ACC_3  738700                 0.410499             0.0749651\n",
      "ACC_2        691885                 0.384483             0.0702142\n",
      "ACC_1        662555                 0.368184             0.0672377\n",
      "chest_ACC_1  606904                 0.337259             0.0615901\n",
      "ACC_0        515194                 0.286295             0.0522831\n",
      "chest_ACC_2  505555                 0.280939             0.051305\n",
      "chest_Resp   36326.2                0.0201866            0.00368647\n",
      "BVP          12337.3                0.0068559            0.00125202\n",
      "chest_ECG    4680.32                0.00260087           0.000474971\n",
      "chest_EMG    3893.52                0.00216364           0.000395124"
     ]
    }
   ],
   "source": [
    "from h2o.estimators.random_forest import H2ORandomForestEstimator\n",
    "\n",
    "rf_model = H2ORandomForestEstimator(ntrees=200)\n",
    "rf_model.train(x=predictors,\n",
    "               y=response,\n",
    "               training_frame=train_h2o,\n",
    "               validation_frame=test_h2o)\n",
    "rf_model"
   ]
  },
  {
   "cell_type": "code",
   "execution_count": 71,
   "metadata": {
    "scrolled": false
   },
   "outputs": [
    {
     "data": {
      "application/vnd.jupyter.widget-view+json": {
       "model_id": "e0182e2b1ee349e68e5e68fa972f32ce",
       "version_major": 2,
       "version_minor": 0
      },
      "text/plain": [
       "VBox()"
      ]
     },
     "metadata": {},
     "output_type": "display_data"
    },
    {
     "data": {
      "application/vnd.jupyter.widget-view+json": {
       "model_id": "",
       "version_major": 2,
       "version_minor": 0
      },
      "text/plain": [
       "FloatProgress(value=0.0, bar_style='info', description='Progress:', layout=Layout(height='25px', width='50%'),…"
      ]
     },
     "metadata": {},
     "output_type": "display_data"
    },
    {
     "name": "stdout",
     "output_type": "stream",
     "text": [
      "Model Details\n",
      "=============\n",
      "H2ORandomForestEstimator :  Distributed Random Forest\n",
      "Model Key:  DRF_model_python_1579219406050_2\n",
      "\n",
      "\n",
      "Model Summary: \n",
      "    number_of_trees    number_of_internal_trees    model_size_in_bytes    min_depth    max_depth    mean_depth    min_leaves    max_leaves    mean_leaves\n",
      "--  -----------------  --------------------------  ---------------------  -----------  -----------  ------------  ------------  ------------  -------------\n",
      "    200                600                         2.6102e+06             13           20           18.4217       147           767           341.935\n",
      "\n",
      "\n",
      "ModelMetricsMultinomial: drf\n",
      "** Reported on train data. **\n",
      "\n",
      "MSE: 0.00022886419591212965\n",
      "RMSE: 0.015128258191613788\n",
      "LogLoss: 0.00300436814261544\n",
      "Mean Per-Class Error: 2.1088423517075277e-05\n",
      "\n",
      "Confusion Matrix: Row labels: Actual class; Column labels: Predicted class\n",
      "1      2      3      Error        Rate\n",
      "-----  -----  -----  -----------  -----------\n",
      "65719  1      0      1.52161e-05  1 / 65,720\n",
      "0      36972  0      0            0 / 36,972\n",
      "1      0      20811  4.80492e-05  1 / 20,812\n",
      "65720  36973  20811  1.61938e-05  2 / 123,504\n",
      "\n",
      "Top-3 Hit Ratios: \n",
      "k    hit_ratio\n",
      "---  -----------\n",
      "1    0.999984\n",
      "2    1\n",
      "3    1\n",
      "\n",
      "ModelMetricsMultinomial: drf\n",
      "** Reported on validation data. **\n",
      "\n",
      "MSE: 0.34361520011245705\n",
      "RMSE: 0.5861870009753347\n",
      "LogLoss: 1.397381841390256\n",
      "Mean Per-Class Error: 0.6240531755874966\n",
      "\n",
      "Confusion Matrix: Row labels: Actual class; Column labels: Predicted class\n",
      "1     2     3     Error      Rate\n",
      "----  ----  ----  ---------  -------------\n",
      "4717  7     0     0.0014818  7 / 4,724\n",
      "427   374   2091  0.870678   2,518 / 2,892\n",
      "4     1484  0     1          1,488 / 1,488\n",
      "5148  1865  2091  0.440795   4,013 / 9,104\n",
      "\n",
      "Top-3 Hit Ratios: \n",
      "k    hit_ratio\n",
      "---  -----------\n",
      "1    0.559205\n",
      "2    0.703976\n",
      "3    1\n",
      "\n",
      "Scoring History: \n",
      "     timestamp            duration          number_of_trees    training_rmse         training_logloss       training_classification_error    validation_rmse     validation_logloss    validation_classification_error\n",
      "---  -------------------  ----------------  -----------------  --------------------  ---------------------  -------------------------------  ------------------  --------------------  ---------------------------------\n",
      "     2020-01-17 01:01:24  0.004 sec         0.0                nan                   nan                    nan                              nan                 nan                   nan\n",
      "     2020-01-17 01:01:25  1.051 sec         1.0                0.05884333269894873   0.0977778533789462     0.003146660798767741             0.7584810622376087  17.097479603541743    0.5692003514938488\n",
      "     2020-01-17 01:01:26  2.106 sec         2.0                0.05605978413772394   0.08560025480312712    0.0027933337831455365            0.5943523663646353  7.666590898084439     0.44112478031634444\n",
      "     2020-01-17 01:01:27  3.112 sec         3.0                0.05230566657496008   0.0731988409620041     0.0020895813258555917            0.6009098059753122  7.671545654036924     0.46704745166959577\n",
      "     2020-01-17 01:01:28  4.028 sec         4.0                0.04715322110891053   0.056674122348413236   0.001684603684950232             0.6401584893740148  7.794559746492564     0.4716608084358524\n",
      "---  ---                  ---               ---                ---                   ---                    ---                              ---                 ---                   ---\n",
      "     2020-01-17 01:04:08  2 min 44.672 sec  166.0              0.015300500059986451  0.0029908489616529066  3.2387614976033165e-05           0.5852406275561889  1.3928283541525226    0.43321616871704743\n",
      "     2020-01-17 01:04:16  2 min 52.785 sec  174.0              0.015266881775652217  0.002993332440579228   3.2387614976033165e-05           0.587895098291292   1.4080951810424824    0.4361818980667838\n",
      "     2020-01-17 01:04:25  3 min  1.006 sec  182.0              0.015246691354596076  0.0030079985181226047  3.2387614976033165e-05           0.5849503999655102  1.3905904504766442    0.43233743409490333\n",
      "     2020-01-17 01:04:34  3 min 10.107 sec  191.0              0.015140080166002047  0.002995677679643618   2.4290711232024873e-05           0.5876953669768016  1.4056045277824543    0.43936731107205623\n",
      "     2020-01-17 01:04:43  3 min 19.188 sec  200.0              0.015128258191613788  0.00300436814261544    1.6193807488016582e-05           0.5861870009753347  1.397381841390256     0.44079525483304044\n",
      "\n",
      "Variable Importances: \n",
      "variable     relative_importance    scaled_importance    percentage\n",
      "-----------  ---------------------  -------------------  ------------\n",
      "EDA          1.79952e+06            1                    0.18262\n",
      "TEMP         1.70004e+06            0.944719             0.172524\n",
      "chest_EDA    1.44134e+06            0.800955             0.14627\n",
      "chest_Temp   1.13499e+06            0.63072              0.115182\n",
      "chest_ACC_3  738700                 0.410499             0.0749651\n",
      "ACC_2        691885                 0.384483             0.0702142\n",
      "ACC_1        662555                 0.368184             0.0672377\n",
      "chest_ACC_1  606904                 0.337259             0.0615901\n",
      "ACC_0        515194                 0.286295             0.0522831\n",
      "chest_ACC_2  505555                 0.280939             0.051305\n",
      "chest_Resp   36326.2                0.0201866            0.00368647\n",
      "BVP          12337.3                0.0068559            0.00125202\n",
      "chest_ECG    4680.32                0.00260087           0.000474971\n",
      "chest_EMG    3893.52                0.00216364           0.000395124\n",
      "<bound method ModelBase.model_performance of >"
     ]
    }
   ],
   "source": [
    "rf_model.model_performance"
   ]
  },
  {
   "cell_type": "code",
   "execution_count": null,
   "metadata": {},
   "outputs": [],
   "source": []
  },
  {
   "cell_type": "markdown",
   "metadata": {},
   "source": [
    "## Wrist-only"
   ]
  },
  {
   "cell_type": "code",
   "execution_count": 85,
   "metadata": {},
   "outputs": [
    {
     "data": {
      "application/vnd.jupyter.widget-view+json": {
       "model_id": "a61e543c15c148908ba77e2d51d6b60b",
       "version_major": 2,
       "version_minor": 0
      },
      "text/plain": [
       "VBox()"
      ]
     },
     "metadata": {},
     "output_type": "display_data"
    },
    {
     "data": {
      "application/vnd.jupyter.widget-view+json": {
       "model_id": "",
       "version_major": 2,
       "version_minor": 0
      },
      "text/plain": [
       "FloatProgress(value=0.0, bar_style='info', description='Progress:', layout=Layout(height='25px', width='50%'),…"
      ]
     },
     "metadata": {},
     "output_type": "display_data"
    },
    {
     "name": "stdout",
     "output_type": "stream",
     "text": [
      "Row(_c0=306.75, label=1.0, ACC_0=65.0, ACC_1=12.0, ACC_2=21.0, BVP=-33.58, EDA=1.640539, TEMP=35.81, sub_id='S_2')"
     ]
    }
   ],
   "source": [
    "wrists.head()"
   ]
  },
  {
   "cell_type": "code",
   "execution_count": 86,
   "metadata": {},
   "outputs": [
    {
     "data": {
      "application/vnd.jupyter.widget-view+json": {
       "model_id": "4560723ce6584ae998215a2fd76cec0a",
       "version_major": 2,
       "version_minor": 0
      },
      "text/plain": [
       "VBox()"
      ]
     },
     "metadata": {},
     "output_type": "display_data"
    },
    {
     "data": {
      "application/vnd.jupyter.widget-view+json": {
       "model_id": "",
       "version_major": 2,
       "version_minor": 0
      },
      "text/plain": [
       "FloatProgress(value=0.0, bar_style='info', description='Progress:', layout=Layout(height='25px', width='50%'),…"
      ]
     },
     "metadata": {},
     "output_type": "display_data"
    }
   ],
   "source": [
    "wrists_data = wrists"
   ]
  },
  {
   "cell_type": "code",
   "execution_count": 93,
   "metadata": {},
   "outputs": [
    {
     "data": {
      "application/vnd.jupyter.widget-view+json": {
       "model_id": "52fb1508e5a440c1932f87368d7b68a0",
       "version_major": 2,
       "version_minor": 0
      },
      "text/plain": [
       "VBox()"
      ]
     },
     "metadata": {},
     "output_type": "display_data"
    },
    {
     "data": {
      "application/vnd.jupyter.widget-view+json": {
       "model_id": "",
       "version_major": 2,
       "version_minor": 0
      },
      "text/plain": [
       "FloatProgress(value=0.0, bar_style='info', description='Progress:', layout=Layout(height='25px', width='50%'),…"
      ]
     },
     "metadata": {},
     "output_type": "display_data"
    },
    {
     "name": "stdout",
     "output_type": "stream",
     "text": [
      "132608"
     ]
    }
   ],
   "source": [
    "wrists_data.count()"
   ]
  },
  {
   "cell_type": "code",
   "execution_count": 90,
   "metadata": {},
   "outputs": [
    {
     "data": {
      "application/vnd.jupyter.widget-view+json": {
       "model_id": "6964b78b3ae042a6981d5874d3268014",
       "version_major": 2,
       "version_minor": 0
      },
      "text/plain": [
       "VBox()"
      ]
     },
     "metadata": {},
     "output_type": "display_data"
    },
    {
     "data": {
      "application/vnd.jupyter.widget-view+json": {
       "model_id": "",
       "version_major": 2,
       "version_minor": 0
      },
      "text/plain": [
       "FloatProgress(value=0.0, bar_style='info', description='Progress:', layout=Layout(height='25px', width='50%'),…"
      ]
     },
     "metadata": {},
     "output_type": "display_data"
    }
   ],
   "source": [
    "wrists_train_data = wrists_data.filter(wrists_data.sub_id != \"S_17\").cache()\n",
    "wrists_test_data = wrists_data.filter(wrists_data.sub_id == \"S_17\").cache()"
   ]
  },
  {
   "cell_type": "code",
   "execution_count": 91,
   "metadata": {},
   "outputs": [
    {
     "data": {
      "application/vnd.jupyter.widget-view+json": {
       "model_id": "2779a3a8a20e44f4922817f25516c5de",
       "version_major": 2,
       "version_minor": 0
      },
      "text/plain": [
       "VBox()"
      ]
     },
     "metadata": {},
     "output_type": "display_data"
    },
    {
     "data": {
      "application/vnd.jupyter.widget-view+json": {
       "model_id": "",
       "version_major": 2,
       "version_minor": 0
      },
      "text/plain": [
       "FloatProgress(value=0.0, bar_style='info', description='Progress:', layout=Layout(height='25px', width='50%'),…"
      ]
     },
     "metadata": {},
     "output_type": "display_data"
    },
    {
     "name": "stdout",
     "output_type": "stream",
     "text": [
      "123504"
     ]
    }
   ],
   "source": [
    "wrists_train_data.count()"
   ]
  },
  {
   "cell_type": "code",
   "execution_count": 92,
   "metadata": {},
   "outputs": [
    {
     "data": {
      "application/vnd.jupyter.widget-view+json": {
       "model_id": "41012ffd504047ada8bf9494b6705dd8",
       "version_major": 2,
       "version_minor": 0
      },
      "text/plain": [
       "VBox()"
      ]
     },
     "metadata": {},
     "output_type": "display_data"
    },
    {
     "data": {
      "application/vnd.jupyter.widget-view+json": {
       "model_id": "",
       "version_major": 2,
       "version_minor": 0
      },
      "text/plain": [
       "FloatProgress(value=0.0, bar_style='info', description='Progress:', layout=Layout(height='25px', width='50%'),…"
      ]
     },
     "metadata": {},
     "output_type": "display_data"
    },
    {
     "name": "stdout",
     "output_type": "stream",
     "text": [
      "9104"
     ]
    }
   ],
   "source": [
    "wrists_test_data.count()"
   ]
  },
  {
   "cell_type": "code",
   "execution_count": 94,
   "metadata": {},
   "outputs": [
    {
     "data": {
      "application/vnd.jupyter.widget-view+json": {
       "model_id": "93cc4c6f73b24ee4bc7d1217315f8c65",
       "version_major": 2,
       "version_minor": 0
      },
      "text/plain": [
       "VBox()"
      ]
     },
     "metadata": {},
     "output_type": "display_data"
    },
    {
     "data": {
      "application/vnd.jupyter.widget-view+json": {
       "model_id": "",
       "version_major": 2,
       "version_minor": 0
      },
      "text/plain": [
       "FloatProgress(value=0.0, bar_style='info', description='Progress:', layout=Layout(height='25px', width='50%'),…"
      ]
     },
     "metadata": {},
     "output_type": "display_data"
    }
   ],
   "source": [
    "wrist_train_h2o = hc.as_h2o_frame(wrists_train_data, \"wrists_train_data\")"
   ]
  },
  {
   "cell_type": "code",
   "execution_count": 95,
   "metadata": {},
   "outputs": [
    {
     "data": {
      "application/vnd.jupyter.widget-view+json": {
       "model_id": "4e06c582bb174afabf070223f5b4b19c",
       "version_major": 2,
       "version_minor": 0
      },
      "text/plain": [
       "VBox()"
      ]
     },
     "metadata": {},
     "output_type": "display_data"
    },
    {
     "data": {
      "application/vnd.jupyter.widget-view+json": {
       "model_id": "",
       "version_major": 2,
       "version_minor": 0
      },
      "text/plain": [
       "FloatProgress(value=0.0, bar_style='info', description='Progress:', layout=Layout(height='25px', width='50%'),…"
      ]
     },
     "metadata": {},
     "output_type": "display_data"
    }
   ],
   "source": [
    "wrist_test_h2o = hc.as_h2o_frame(wrists_test_data, \"wrists_test_data\")"
   ]
  },
  {
   "cell_type": "code",
   "execution_count": 96,
   "metadata": {},
   "outputs": [
    {
     "data": {
      "application/vnd.jupyter.widget-view+json": {
       "model_id": "0e4fa756825149f4a4d9c3fabaae841e",
       "version_major": 2,
       "version_minor": 0
      },
      "text/plain": [
       "VBox()"
      ]
     },
     "metadata": {},
     "output_type": "display_data"
    },
    {
     "data": {
      "application/vnd.jupyter.widget-view+json": {
       "model_id": "",
       "version_major": 2,
       "version_minor": 0
      },
      "text/plain": [
       "FloatProgress(value=0.0, bar_style='info', description='Progress:', layout=Layout(height='25px', width='50%'),…"
      ]
     },
     "metadata": {},
     "output_type": "display_data"
    }
   ],
   "source": [
    "wrist_train_h2o[\"label\"] = wrist_train_h2o[\"label\"].asfactor()"
   ]
  },
  {
   "cell_type": "code",
   "execution_count": 97,
   "metadata": {},
   "outputs": [
    {
     "data": {
      "application/vnd.jupyter.widget-view+json": {
       "model_id": "c4aa2bb9bc4f4ca9829fb7e6e28a016e",
       "version_major": 2,
       "version_minor": 0
      },
      "text/plain": [
       "VBox()"
      ]
     },
     "metadata": {},
     "output_type": "display_data"
    },
    {
     "data": {
      "application/vnd.jupyter.widget-view+json": {
       "model_id": "",
       "version_major": 2,
       "version_minor": 0
      },
      "text/plain": [
       "FloatProgress(value=0.0, bar_style='info', description='Progress:', layout=Layout(height='25px', width='50%'),…"
      ]
     },
     "metadata": {},
     "output_type": "display_data"
    }
   ],
   "source": [
    "wrist_test_h2o[\"label\"] = wrist_test_h2o[\"label\"].asfactor()"
   ]
  },
  {
   "cell_type": "code",
   "execution_count": 98,
   "metadata": {},
   "outputs": [
    {
     "data": {
      "application/vnd.jupyter.widget-view+json": {
       "model_id": "fcc3942bff2644b19b1fe3fc312ee9fd",
       "version_major": 2,
       "version_minor": 0
      },
      "text/plain": [
       "VBox()"
      ]
     },
     "metadata": {},
     "output_type": "display_data"
    },
    {
     "data": {
      "application/vnd.jupyter.widget-view+json": {
       "model_id": "",
       "version_major": 2,
       "version_minor": 0
      },
      "text/plain": [
       "FloatProgress(value=0.0, bar_style='info', description='Progress:', layout=Layout(height='25px', width='50%'),…"
      ]
     },
     "metadata": {},
     "output_type": "display_data"
    }
   ],
   "source": [
    "wrists_predictors = wrist_train_h2o.names[:]\n",
    "wrists_predictors.remove(\"_c0\")\n",
    "wrists_response = \"label\"\n",
    "wrists_predictors.remove(wrists_response)"
   ]
  },
  {
   "cell_type": "code",
   "execution_count": 100,
   "metadata": {},
   "outputs": [
    {
     "data": {
      "application/vnd.jupyter.widget-view+json": {
       "model_id": "3d11ec8d38514cc78fea6f5421d920ee",
       "version_major": 2,
       "version_minor": 0
      },
      "text/plain": [
       "VBox()"
      ]
     },
     "metadata": {},
     "output_type": "display_data"
    },
    {
     "data": {
      "application/vnd.jupyter.widget-view+json": {
       "model_id": "",
       "version_major": 2,
       "version_minor": 0
      },
      "text/plain": [
       "FloatProgress(value=0.0, bar_style='info', description='Progress:', layout=Layout(height='25px', width='50%'),…"
      ]
     },
     "metadata": {},
     "output_type": "display_data"
    },
    {
     "name": "stdout",
     "output_type": "stream",
     "text": [
      "{'_c0': 'real', 'label': 'enum', 'ACC_0': 'int', 'ACC_1': 'int', 'ACC_2': 'int', 'BVP': 'real', 'EDA': 'real', 'TEMP': 'real', 'sub_id': 'string'}"
     ]
    }
   ],
   "source": [
    "wrist_train_h2o.types"
   ]
  },
  {
   "cell_type": "code",
   "execution_count": 101,
   "metadata": {},
   "outputs": [
    {
     "data": {
      "application/vnd.jupyter.widget-view+json": {
       "model_id": "855c6279b1bd494da7a8078f2c41bb46",
       "version_major": 2,
       "version_minor": 0
      },
      "text/plain": [
       "VBox()"
      ]
     },
     "metadata": {},
     "output_type": "display_data"
    },
    {
     "data": {
      "application/vnd.jupyter.widget-view+json": {
       "model_id": "",
       "version_major": 2,
       "version_minor": 0
      },
      "text/plain": [
       "FloatProgress(value=0.0, bar_style='info', description='Progress:', layout=Layout(height='25px', width='50%'),…"
      ]
     },
     "metadata": {},
     "output_type": "display_data"
    },
    {
     "name": "stdout",
     "output_type": "stream",
     "text": [
      "AutoML progress: [########################################################] 100%\n",
      "model_id                                               mean_per_class_error     logloss       rmse          mse\n",
      "---------------------------------------------------  ----------------------  ----------  ---------  -----------\n",
      "XGBoost_1_AutoML_20200117_015544                                0.000558105  0.00284161  0.0192358  0.000370017\n",
      "XGBoost_2_AutoML_20200117_015544                                0.0015964    0.0304554   0.0498706  0.00248707\n",
      "XGBoost_3_AutoML_20200117_015544                                0.0859506    0.885997    0.587115   0.344704\n",
      "StackedEnsemble_BestOfFamily_AutoML_20200117_015544             0.666667     0.996842    0.616396   0.379944\n",
      "StackedEnsemble_AllModels_AutoML_20200117_015544                0.666667     0.996842    0.616396   0.379944\n",
      "\n",
      "[5 rows x 5 columns]"
     ]
    }
   ],
   "source": [
    "wrists_model_automl = H2OAutoML(nfolds = 3, max_runtime_secs = 1000, seed = 2, max_models = 10)\n",
    "wrists_model_automl.train(x=wrists_predictors,\n",
    "                   y=wrists_response,\n",
    "                   training_frame=wrist_train_h2o,\n",
    "                   validation_frame=wrist_test_h2o)\n",
    "print(wrists_model_automl.leaderboard)"
   ]
  },
  {
   "cell_type": "code",
   "execution_count": 103,
   "metadata": {
    "scrolled": false
   },
   "outputs": [
    {
     "data": {
      "application/vnd.jupyter.widget-view+json": {
       "model_id": "30becf7334f34b40b3d5c7b49c05924f",
       "version_major": 2,
       "version_minor": 0
      },
      "text/plain": [
       "VBox()"
      ]
     },
     "metadata": {},
     "output_type": "display_data"
    },
    {
     "data": {
      "application/vnd.jupyter.widget-view+json": {
       "model_id": "",
       "version_major": 2,
       "version_minor": 0
      },
      "text/plain": [
       "FloatProgress(value=0.0, bar_style='info', description='Progress:', layout=Layout(height='25px', width='50%'),…"
      ]
     },
     "metadata": {},
     "output_type": "display_data"
    },
    {
     "name": "stdout",
     "output_type": "stream",
     "text": [
      "Model Details\n",
      "=============\n",
      "H2OXGBoostEstimator :  XGBoost\n",
      "Model Key:  XGBoost_1_AutoML_20200117_015544\n",
      "\n",
      "\n",
      "Model Summary: \n",
      "    number_of_trees\n",
      "--  -----------------\n",
      "    281\n",
      "\n",
      "\n",
      "ModelMetricsMultinomial: xgboost\n",
      "** Reported on train data. **\n",
      "\n",
      "MSE: 8.144032583696577e-05\n",
      "RMSE: 0.009024429391211711\n",
      "LogLoss: 0.001377534804467871\n",
      "Mean Per-Class Error: 5.7065034183882365e-05\n",
      "\n",
      "Confusion Matrix: Row labels: Actual class; Column labels: Predicted class\n",
      "1      2      3      Error        Rate\n",
      "-----  -----  -----  -----------  -----------\n",
      "65720  0      0      0            0 / 65,720\n",
      "1      36971  0      2.70475e-05  1 / 36,972\n",
      "3      0      20809  0.000144148  3 / 20,812\n",
      "65724  36971  20809  3.23876e-05  4 / 123,504\n",
      "\n",
      "Top-3 Hit Ratios: \n",
      "k    hit_ratio\n",
      "---  -----------\n",
      "1    0.999968\n",
      "2    1\n",
      "3    1\n",
      "\n",
      "ModelMetricsMultinomial: xgboost\n",
      "** Reported on validation data. **\n",
      "\n",
      "MSE: 0.4205573746592789\n",
      "RMSE: 0.6485039511516325\n",
      "LogLoss: 1.9337256490223413\n",
      "Mean Per-Class Error: 0.5970505026372303\n",
      "\n",
      "Confusion Matrix: Row labels: Actual class; Column labels: Predicted class\n",
      "1     2     3    Error     Rate\n",
      "----  ----  ---  --------  -------------\n",
      "2558  2166  0    0.45851   2,166 / 4,724\n",
      "802   1930  160  0.332642  962 / 2,892\n",
      "5     1483  0    1         1,488 / 1,488\n",
      "3365  5579  160  0.50703   4,616 / 9,104\n",
      "\n",
      "Top-3 Hit Ratios: \n",
      "k    hit_ratio\n",
      "---  -----------\n",
      "1    0.49297\n",
      "2    0.801845\n",
      "3    1\n",
      "\n",
      "ModelMetricsMultinomial: xgboost\n",
      "** Reported on cross-validation data. **\n",
      "\n",
      "MSE: 0.00037001660246965026\n",
      "RMSE: 0.019235815617479033\n",
      "LogLoss: 0.0028416119965452872\n",
      "Mean Per-Class Error: 0.0005581052985142158\n",
      "\n",
      "Confusion Matrix: Row labels: Actual class; Column labels: Predicted class\n",
      "1      2      3      Error        Rate\n",
      "-----  -----  -----  -----------  ------------\n",
      "65713  5      2      0.000106512  7 / 65,720\n",
      "10     36962  0      0.000270475  10 / 36,972\n",
      "20     7      20785  0.00129733   27 / 20,812\n",
      "65743  36974  20787  0.000356264  44 / 123,504\n",
      "\n",
      "Top-3 Hit Ratios: \n",
      "k    hit_ratio\n",
      "---  -----------\n",
      "1    0.999644\n",
      "2    1\n",
      "3    1\n",
      "\n",
      "Cross-Validation Metrics Summary: \n",
      "                         mean         sd           cv_1_valid    cv_2_valid    cv_3_valid\n",
      "-----------------------  -----------  -----------  ------------  ------------  ------------\n",
      "accuracy                 0.999644     0.000109533  0.999757      0.999538      0.999636\n",
      "err                      0.000356264  0.000109533  0.000242907   0.000461523   0.000364361\n",
      "err_count                14.6667      4.50925      10            19            15\n",
      "logloss                  0.00284161   0.000382167  0.00287012    0.00320873    0.00244599\n",
      "max_per_class_error      0.00129722   0.000498814  0.00100952    0.0018732     0.00100894\n",
      "mean_per_class_accuracy  0.999442     0.000176284  0.999594      0.999249      0.999483\n",
      "mean_per_class_error     0.000558068  0.000176284  0.000405815   0.0007512     0.00051719\n",
      "mse                      0.000370017  6.5038e-05   0.000311265   0.000439903   0.000358882\n",
      "r2                       0.999349     0.000114294  0.999452      0.999226      0.999369\n",
      "rmse                     0.0191869    0.0016788    0.0176427     0.0209739     0.0189442\n",
      "\n",
      "Scoring History: \n",
      "     timestamp            duration           number_of_trees    training_rmse         training_logloss       training_classification_error    validation_rmse     validation_logloss    validation_classification_error\n",
      "---  -------------------  -----------------  -----------------  --------------------  ---------------------  -------------------------------  ------------------  --------------------  ---------------------------------\n",
      "     2020-01-17 02:07:32  11 min 48.075 sec  0.0                0.6666666567325373    1.0986122588657365     0.7006412747765255               0.6666666567325372  1.0986122588657359    0.6823374340949033\n",
      "     2020-01-17 02:07:33  11 min 49.067 sec  5.0                0.5604384763667315    0.8222156036147422     0.0047852701127089               0.6612284984292937  1.0864866053147848    0.6111599297012302\n",
      "     2020-01-17 02:07:34  11 min 49.884 sec  10.0               0.4655569166403426    0.6264779277690947     0.002218551625858272             0.6645156302355114  1.1050502310052133    0.6092926186291739\n",
      "     2020-01-17 02:07:35  11 min 50.750 sec  15.0               0.38420094883659156   0.48401600111317206    0.0018784816686099235            0.6671383129278551  1.1215303266991634    0.6728910369068541\n",
      "     2020-01-17 02:07:36  11 min 51.656 sec  20.0               0.3138976208289534    0.3749033919759998     0.0014412488664334758            0.665237308917755   1.1302935958056597    0.6007249560632689\n",
      "---  ---                  ---                ---                ---                   ---                    ---                              ---                 ---                   ---\n",
      "     2020-01-17 02:09:48  14 min  3.520 sec  265.0              0.009496698509928085  0.0015093805908378065  4.0484518720041456e-05           0.6491008104993995  1.906379092901554     0.5084578207381371\n",
      "     2020-01-17 02:09:52  14 min  8.384 sec  270.0              0.009361553259444037  0.001468128160729078   4.0484518720041456e-05           0.6485580563341685  1.9142433435901345    0.5084578207381371\n",
      "     2020-01-17 02:09:57  14 min 13.165 sec  275.0              0.009220074576252736  0.0014269745086708968  4.0484518720041456e-05           0.6492379322462227  1.9242013843690993    0.508238137082601\n",
      "     2020-01-17 02:10:02  14 min 18.021 sec  280.0              0.009080874827235508  0.0013894712181013317  4.0484518720041456e-05           0.6483349423596659  1.9296067508404355    0.5068101933216169\n",
      "     2020-01-17 02:10:07  14 min 22.558 sec  281.0              0.009024429391211711  0.001377534804467871   3.2387614976033165e-05           0.6485039511516325  1.9337256490223413    0.5070298769771528\n",
      "\n",
      "Variable Importances: \n",
      "variable    relative_importance    scaled_importance    percentage\n",
      "----------  ---------------------  -------------------  ------------\n",
      "EDA         498402                 1                    0.334555\n",
      "TEMP        398210                 0.798973             0.267301\n",
      "ACC_1       227467                 0.456392             0.152688\n",
      "ACC_0       182994                 0.367161             0.122836\n",
      "ACC_2       172371                 0.345847             0.115705\n",
      "BVP         10302.2                0.0206706            0.00691545"
     ]
    }
   ],
   "source": [
    "h2o.get_model(\"XGBoost_1_AutoML_20200117_015544\")"
   ]
  },
  {
   "cell_type": "markdown",
   "metadata": {},
   "source": [
    "## Chest-only"
   ]
  },
  {
   "cell_type": "code",
   "execution_count": 137,
   "metadata": {},
   "outputs": [
    {
     "data": {
      "application/vnd.jupyter.widget-view+json": {
       "model_id": "2c3f7a07e5a0425fb41037a80f90d119",
       "version_major": 2,
       "version_minor": 0
      },
      "text/plain": [
       "VBox()"
      ]
     },
     "metadata": {},
     "output_type": "display_data"
    },
    {
     "data": {
      "application/vnd.jupyter.widget-view+json": {
       "model_id": "",
       "version_major": 2,
       "version_minor": 0
      },
      "text/plain": [
       "FloatProgress(value=0.0, bar_style='info', description='Progress:', layout=Layout(height='25px', width='50%'),…"
      ]
     },
     "metadata": {},
     "output_type": "display_data"
    }
   ],
   "source": [
    "chests_data = all_data.drop('ACC_1', 'ACC_2', 'ACC_0', 'BVP', 'EDA', 'TEMP')"
   ]
  },
  {
   "cell_type": "code",
   "execution_count": 138,
   "metadata": {},
   "outputs": [
    {
     "data": {
      "application/vnd.jupyter.widget-view+json": {
       "model_id": "bf7c3764ae4f47ec8274fcd442e07b32",
       "version_major": 2,
       "version_minor": 0
      },
      "text/plain": [
       "VBox()"
      ]
     },
     "metadata": {},
     "output_type": "display_data"
    },
    {
     "data": {
      "application/vnd.jupyter.widget-view+json": {
       "model_id": "",
       "version_major": 2,
       "version_minor": 0
      },
      "text/plain": [
       "FloatProgress(value=0.0, bar_style='info', description='Progress:', layout=Layout(height='25px', width='50%'),…"
      ]
     },
     "metadata": {},
     "output_type": "display_data"
    }
   ],
   "source": [
    "chests_data = chests_data.filter(chests_data.label.isin([1,2,3]))"
   ]
  },
  {
   "cell_type": "code",
   "execution_count": 139,
   "metadata": {},
   "outputs": [
    {
     "data": {
      "application/vnd.jupyter.widget-view+json": {
       "model_id": "03d47b1c74e84a299f46be87a29bcebe",
       "version_major": 2,
       "version_minor": 0
      },
      "text/plain": [
       "VBox()"
      ]
     },
     "metadata": {},
     "output_type": "display_data"
    },
    {
     "data": {
      "application/vnd.jupyter.widget-view+json": {
       "model_id": "",
       "version_major": 2,
       "version_minor": 0
      },
      "text/plain": [
       "FloatProgress(value=0.0, bar_style='info', description='Progress:', layout=Layout(height='25px', width='50%'),…"
      ]
     },
     "metadata": {},
     "output_type": "display_data"
    },
    {
     "name": "stdout",
     "output_type": "stream",
     "text": [
      "132608"
     ]
    }
   ],
   "source": [
    "chests_data.count()"
   ]
  },
  {
   "cell_type": "code",
   "execution_count": 140,
   "metadata": {},
   "outputs": [
    {
     "data": {
      "application/vnd.jupyter.widget-view+json": {
       "model_id": "2c7092db09fc4ff08e39cd8d68eb785c",
       "version_major": 2,
       "version_minor": 0
      },
      "text/plain": [
       "VBox()"
      ]
     },
     "metadata": {},
     "output_type": "display_data"
    },
    {
     "data": {
      "application/vnd.jupyter.widget-view+json": {
       "model_id": "",
       "version_major": 2,
       "version_minor": 0
      },
      "text/plain": [
       "FloatProgress(value=0.0, bar_style='info', description='Progress:', layout=Layout(height='25px', width='50%'),…"
      ]
     },
     "metadata": {},
     "output_type": "display_data"
    },
    {
     "name": "stdout",
     "output_type": "stream",
     "text": [
      "+------+-----+------+------------------+--------------------+-------------------+--------------------+-------------------+------------------+----------+-----------------+\n",
      "| col_1|label|sub_id|       chest_ACC_1|         chest_ACC_2|        chest_ACC_3|           chest_ECG|          chest_EMG|         chest_EDA|chest_Temp|       chest_Resp|\n",
      "+------+-----+------+------------------+--------------------+-------------------+--------------------+-------------------+------------------+----------+-----------------+\n",
      "|315.75|    1|    S2| 0.864799976348877| -0.1345999836921692|-0.3181999921798706| -0.1154022216796875| 0.0274200439453125|5.1868438720703125| 29.211609|-0.66070556640625|\n",
      "|367.25|    1|    S2|0.6258000135421753|-0.10799998044967651|-0.7045999765396118|0.015609741210937498| 0.0077362060546875|     4.50439453125|  28.97876|  -1.153564453125|\n",
      "| 451.5|    1|    S2| 0.611799955368042| -0.1064000129699707|-0.7148000001907349|  0.0641326904296875|-0.0117645263671875|3.5129547119140625| 28.819489| 2.27203369140625|\n",
      "| 496.0|    1|    S2|0.6483999490737915|-0.05540001392364502|-0.6787999868392944|  0.0048065185546875| -0.013275146484375| 3.224945068359375| 28.808044|  -1.458740234375|\n",
      "|548.25|    1|    S2|0.6510000228881836|-0.06160002946853638|-0.6818000078201294| -0.2008209228515625|-0.0055389404296875|2.7584075927734375|  28.55893|-1.30157470703125|\n",
      "+------+-----+------+------------------+--------------------+-------------------+--------------------+-------------------+------------------+----------+-----------------+\n",
      "only showing top 5 rows"
     ]
    }
   ],
   "source": [
    "chests_data.show(5)"
   ]
  },
  {
   "cell_type": "code",
   "execution_count": 141,
   "metadata": {},
   "outputs": [
    {
     "data": {
      "application/vnd.jupyter.widget-view+json": {
       "model_id": "1b9d4560f733442f9d90fca5cd3fe525",
       "version_major": 2,
       "version_minor": 0
      },
      "text/plain": [
       "VBox()"
      ]
     },
     "metadata": {},
     "output_type": "display_data"
    },
    {
     "data": {
      "application/vnd.jupyter.widget-view+json": {
       "model_id": "",
       "version_major": 2,
       "version_minor": 0
      },
      "text/plain": [
       "FloatProgress(value=0.0, bar_style='info', description='Progress:', layout=Layout(height='25px', width='50%'),…"
      ]
     },
     "metadata": {},
     "output_type": "display_data"
    }
   ],
   "source": [
    "chests_train_data = chests_data.filter(chests_data.sub_id != \"S17\").cache()\n",
    "chests_test_data = chests_data.filter(chests_data.sub_id == \"S17\").cache()"
   ]
  },
  {
   "cell_type": "code",
   "execution_count": 142,
   "metadata": {},
   "outputs": [
    {
     "data": {
      "application/vnd.jupyter.widget-view+json": {
       "model_id": "cd83ab52f59a47beba0f73c093edb8b0",
       "version_major": 2,
       "version_minor": 0
      },
      "text/plain": [
       "VBox()"
      ]
     },
     "metadata": {},
     "output_type": "display_data"
    },
    {
     "data": {
      "application/vnd.jupyter.widget-view+json": {
       "model_id": "",
       "version_major": 2,
       "version_minor": 0
      },
      "text/plain": [
       "FloatProgress(value=0.0, bar_style='info', description='Progress:', layout=Layout(height='25px', width='50%'),…"
      ]
     },
     "metadata": {},
     "output_type": "display_data"
    }
   ],
   "source": [
    "chest_train_h2o = hc.as_h2o_frame(chests_train_data, \"chests_train_data\")"
   ]
  },
  {
   "cell_type": "code",
   "execution_count": 143,
   "metadata": {},
   "outputs": [
    {
     "data": {
      "application/vnd.jupyter.widget-view+json": {
       "model_id": "d885f96a584f43718d3b59c3c3979daa",
       "version_major": 2,
       "version_minor": 0
      },
      "text/plain": [
       "VBox()"
      ]
     },
     "metadata": {},
     "output_type": "display_data"
    },
    {
     "data": {
      "application/vnd.jupyter.widget-view+json": {
       "model_id": "",
       "version_major": 2,
       "version_minor": 0
      },
      "text/plain": [
       "FloatProgress(value=0.0, bar_style='info', description='Progress:', layout=Layout(height='25px', width='50%'),…"
      ]
     },
     "metadata": {},
     "output_type": "display_data"
    }
   ],
   "source": [
    "chest_test_h2o = hc.as_h2o_frame(chests_test_data, \"chests_test_data\")"
   ]
  },
  {
   "cell_type": "code",
   "execution_count": 144,
   "metadata": {},
   "outputs": [
    {
     "data": {
      "application/vnd.jupyter.widget-view+json": {
       "model_id": "068bdbebffd0446e97bd22acebfc08c0",
       "version_major": 2,
       "version_minor": 0
      },
      "text/plain": [
       "VBox()"
      ]
     },
     "metadata": {},
     "output_type": "display_data"
    },
    {
     "data": {
      "application/vnd.jupyter.widget-view+json": {
       "model_id": "",
       "version_major": 2,
       "version_minor": 0
      },
      "text/plain": [
       "FloatProgress(value=0.0, bar_style='info', description='Progress:', layout=Layout(height='25px', width='50%'),…"
      ]
     },
     "metadata": {},
     "output_type": "display_data"
    }
   ],
   "source": [
    "chest_train_h2o[\"label\"] = chest_train_h2o[\"label\"].asfactor()"
   ]
  },
  {
   "cell_type": "code",
   "execution_count": 145,
   "metadata": {},
   "outputs": [
    {
     "data": {
      "application/vnd.jupyter.widget-view+json": {
       "model_id": "40c8bf6cc7534b4598b916fbcad66f1c",
       "version_major": 2,
       "version_minor": 0
      },
      "text/plain": [
       "VBox()"
      ]
     },
     "metadata": {},
     "output_type": "display_data"
    },
    {
     "data": {
      "application/vnd.jupyter.widget-view+json": {
       "model_id": "",
       "version_major": 2,
       "version_minor": 0
      },
      "text/plain": [
       "FloatProgress(value=0.0, bar_style='info', description='Progress:', layout=Layout(height='25px', width='50%'),…"
      ]
     },
     "metadata": {},
     "output_type": "display_data"
    }
   ],
   "source": [
    "chest_test_h2o[\"label\"] = chest_test_h2o[\"label\"].asfactor()"
   ]
  },
  {
   "cell_type": "code",
   "execution_count": 146,
   "metadata": {},
   "outputs": [
    {
     "data": {
      "application/vnd.jupyter.widget-view+json": {
       "model_id": "48af3043db8f4f1bb00def4a50f40aa0",
       "version_major": 2,
       "version_minor": 0
      },
      "text/plain": [
       "VBox()"
      ]
     },
     "metadata": {},
     "output_type": "display_data"
    },
    {
     "data": {
      "application/vnd.jupyter.widget-view+json": {
       "model_id": "",
       "version_major": 2,
       "version_minor": 0
      },
      "text/plain": [
       "FloatProgress(value=0.0, bar_style='info', description='Progress:', layout=Layout(height='25px', width='50%'),…"
      ]
     },
     "metadata": {},
     "output_type": "display_data"
    },
    {
     "name": "stdout",
     "output_type": "stream",
     "text": [
      "  col_1    label  sub_id      chest_ACC_1    chest_ACC_2    chest_ACC_3    chest_ECG     chest_EMG    chest_EDA    chest_Temp    chest_Resp\n",
      "-------  -------  --------  -------------  -------------  -------------  -----------  ------------  -----------  ------------  ------------\n",
      " 315.75        1  S2               0.8648        -0.1346        -0.3182  -0.115402     0.02742          5.18684       29.2116     -0.660706\n",
      " 367.25        1  S2               0.6258        -0.108         -0.7046   0.0156097    0.00773621       4.50439       28.9788     -1.15356\n",
      " 451.5         1  S2               0.6118        -0.1064        -0.7148   0.0641327   -0.0117645        3.51295       28.8195      2.27203\n",
      " 496           1  S2               0.6484        -0.0554        -0.6788   0.00480652  -0.0132751        3.22495       28.808      -1.45874\n",
      " 548.25        1  S2               0.651         -0.0616        -0.6818  -0.200821    -0.00553894       2.75841       28.5589     -1.30157\n",
      " 558           1  S2               0.6398        -0.0626        -0.701    0.047287    -0.00714111       2.70042       28.5332      1.93024\n",
      " 558.5         1  S2               0.641         -0.0654        -0.7046   0.0807953    0.000686646      2.69241       28.5561      0.788879\n",
      " 596           1  S2               0.6254        -0.0702        -0.6902  -0.192673    -0.0160675        2.45857       28.7063     -0.204468\n",
      " 608.25        1  S2               0.629         -0.0696        -0.711    0.0518646   -0.00494385       2.39182       28.6476      1.27411\n",
      " 672.25        1  S2               0.6328        -0.0654        -0.7138   0.0164337    0.000823975      2.12517       28.3974     -0.512695\n",
      "\n",
      "[123504 rows x 11 columns]"
     ]
    }
   ],
   "source": [
    "chest_train_h2o.show(5)"
   ]
  },
  {
   "cell_type": "code",
   "execution_count": 147,
   "metadata": {},
   "outputs": [
    {
     "data": {
      "application/vnd.jupyter.widget-view+json": {
       "model_id": "795902f05aa0477d958012da22428461",
       "version_major": 2,
       "version_minor": 0
      },
      "text/plain": [
       "VBox()"
      ]
     },
     "metadata": {},
     "output_type": "display_data"
    },
    {
     "data": {
      "application/vnd.jupyter.widget-view+json": {
       "model_id": "",
       "version_major": 2,
       "version_minor": 0
      },
      "text/plain": [
       "FloatProgress(value=0.0, bar_style='info', description='Progress:', layout=Layout(height='25px', width='50%'),…"
      ]
     },
     "metadata": {},
     "output_type": "display_data"
    },
    {
     "name": "stdout",
     "output_type": "stream",
     "text": [
      "  col_1    label  sub_id      chest_ACC_1    chest_ACC_2    chest_ACC_3    chest_ECG     chest_EMG    chest_EDA    chest_Temp    chest_Resp\n",
      "-------  -------  --------  -------------  -------------  -------------  -----------  ------------  -----------  ------------  ------------\n",
      " 151.25        1  S17              0.3862        -0.0696        -0.891   -0.088028    -0.00920105       5.33638       32.9088     -2.97241\n",
      " 168.5         1  S17              0.3748        -0.0802        -0.8902  -0.136642     0.00883484       5.31349       32.9538      2.37885\n",
      " 224.75        1  S17              0.3702        -0.0552        -0.8952   0.0102997    0.0110321        5.32417       33.0139     -2.1759\n",
      " 299           1  S17              0.3722        -0.0582        -0.8908   0.00892639  -0.00485229       5.29366       33.1341      2.19879\n",
      " 305           1  S17              0.3722        -0.0602        -0.8936   0.00196838  -0.0135956        5.29289       33.113      -0.286865\n",
      " 315.75        1  S17              0.369         -0.0588        -0.9014   0.0199585    0.00617981       5.28336       33.1537      3.58429\n",
      " 367.25        1  S17              0.3926        -0.0754        -0.8834  -0.156784    -0.00828552       5.3009        33.2425     -0.993347\n",
      " 451.5         1  S17              0.3726        -0.0654        -0.8934   0.00718689  -0.000686646      5.33905       33.3601     -1.41449\n",
      " 496           1  S17              0.3838        -0.0786        -0.9046  -0.0922394   -0.0555267        5.32265       33.3933      2.06909\n",
      " 548.25        1  S17              0.3726        -0.063         -0.9006  -0.0199127    0.00645447       5.32417       33.4628     -0.239563\n",
      "\n",
      "[9104 rows x 11 columns]"
     ]
    }
   ],
   "source": [
    "chest_test_h2o.show(5)"
   ]
  },
  {
   "cell_type": "code",
   "execution_count": 148,
   "metadata": {},
   "outputs": [
    {
     "data": {
      "application/vnd.jupyter.widget-view+json": {
       "model_id": "9fe9234718f04bea875bcc7a4a8906f7",
       "version_major": 2,
       "version_minor": 0
      },
      "text/plain": [
       "VBox()"
      ]
     },
     "metadata": {},
     "output_type": "display_data"
    },
    {
     "data": {
      "application/vnd.jupyter.widget-view+json": {
       "model_id": "",
       "version_major": 2,
       "version_minor": 0
      },
      "text/plain": [
       "FloatProgress(value=0.0, bar_style='info', description='Progress:', layout=Layout(height='25px', width='50%'),…"
      ]
     },
     "metadata": {},
     "output_type": "display_data"
    }
   ],
   "source": [
    "chests_predictors = chest_train_h2o.names[:]\n",
    "chests_predictors.remove(\"col_1\")\n",
    "chests_response = \"label\"\n",
    "chests_predictors.remove(chests_response)"
   ]
  },
  {
   "cell_type": "code",
   "execution_count": 149,
   "metadata": {},
   "outputs": [
    {
     "data": {
      "application/vnd.jupyter.widget-view+json": {
       "model_id": "ed199831fab64da19051d4aff816b11d",
       "version_major": 2,
       "version_minor": 0
      },
      "text/plain": [
       "VBox()"
      ]
     },
     "metadata": {},
     "output_type": "display_data"
    },
    {
     "data": {
      "application/vnd.jupyter.widget-view+json": {
       "model_id": "",
       "version_major": 2,
       "version_minor": 0
      },
      "text/plain": [
       "FloatProgress(value=0.0, bar_style='info', description='Progress:', layout=Layout(height='25px', width='50%'),…"
      ]
     },
     "metadata": {},
     "output_type": "display_data"
    },
    {
     "name": "stdout",
     "output_type": "stream",
     "text": [
      "AutoML progress: [########################################################] 100%\n",
      "model_id                            mean_per_class_error    logloss       rmse         mse\n",
      "--------------------------------  ----------------------  ---------  ---------  ----------\n",
      "XGBoost_1_AutoML_20200117_024657              0.00422862  0.0627999  0.0854367  0.00729943\n",
      "\n",
      "[1 row x 5 columns]"
     ]
    }
   ],
   "source": [
    "chests_model_automl = H2OAutoML(nfolds = 3, max_runtime_secs = 1000, seed = 2, max_models = 10)\n",
    "chests_model_automl.train(x=chests_predictors,\n",
    "                   y=chests_response,\n",
    "                   training_frame=chest_train_h2o,\n",
    "                   validation_frame=chest_test_h2o)\n",
    "print(chests_model_automl.leaderboard)"
   ]
  },
  {
   "cell_type": "code",
   "execution_count": 186,
   "metadata": {
    "scrolled": false
   },
   "outputs": [
    {
     "data": {
      "application/vnd.jupyter.widget-view+json": {
       "model_id": "6cbdb72b278b42a1ac2f7661033d12b8",
       "version_major": 2,
       "version_minor": 0
      },
      "text/plain": [
       "VBox()"
      ]
     },
     "metadata": {},
     "output_type": "display_data"
    },
    {
     "data": {
      "application/vnd.jupyter.widget-view+json": {
       "model_id": "",
       "version_major": 2,
       "version_minor": 0
      },
      "text/plain": [
       "FloatProgress(value=0.0, bar_style='info', description='Progress:', layout=Layout(height='25px', width='50%'),…"
      ]
     },
     "metadata": {},
     "output_type": "display_data"
    }
   ],
   "source": [
    "chest_model = h2o.get_model(\"XGBoost_1_AutoML_20200117_024657\")"
   ]
  },
  {
   "cell_type": "code",
   "execution_count": 156,
   "metadata": {},
   "outputs": [
    {
     "data": {
      "application/vnd.jupyter.widget-view+json": {
       "model_id": "99b26b7dd12048beb020154e70f49fad",
       "version_major": 2,
       "version_minor": 0
      },
      "text/plain": [
       "VBox()"
      ]
     },
     "metadata": {},
     "output_type": "display_data"
    },
    {
     "data": {
      "application/vnd.jupyter.widget-view+json": {
       "model_id": "",
       "version_major": 2,
       "version_minor": 0
      },
      "text/plain": [
       "FloatProgress(value=0.0, bar_style='info', description='Progress:', layout=Layout(height='25px', width='50%'),…"
      ]
     },
     "metadata": {},
     "output_type": "display_data"
    }
   ],
   "source": [
    "perf = chest_model.model_performance(chest_test_h2o)"
   ]
  },
  {
   "cell_type": "code",
   "execution_count": 209,
   "metadata": {},
   "outputs": [
    {
     "data": {
      "application/vnd.jupyter.widget-view+json": {
       "model_id": "e2c0c6a4e86240559fc25bfb4309b4fc",
       "version_major": 2,
       "version_minor": 0
      },
      "text/plain": [
       "VBox()"
      ]
     },
     "metadata": {},
     "output_type": "display_data"
    },
    {
     "data": {
      "application/vnd.jupyter.widget-view+json": {
       "model_id": "",
       "version_major": 2,
       "version_minor": 0
      },
      "text/plain": [
       "FloatProgress(value=0.0, bar_style='info', description='Progress:', layout=Layout(height='25px', width='50%'),…"
      ]
     },
     "metadata": {},
     "output_type": "display_data"
    }
   ],
   "source": [
    "mpce = chest_model.mean_per_class_error(valid=True)"
   ]
  },
  {
   "cell_type": "code",
   "execution_count": 233,
   "metadata": {},
   "outputs": [
    {
     "data": {
      "application/vnd.jupyter.widget-view+json": {
       "model_id": "c51ffd3a2a61497f8f60612495665f60",
       "version_major": 2,
       "version_minor": 0
      },
      "text/plain": [
       "VBox()"
      ]
     },
     "metadata": {},
     "output_type": "display_data"
    },
    {
     "data": {
      "application/vnd.jupyter.widget-view+json": {
       "model_id": "",
       "version_major": 2,
       "version_minor": 0
      },
      "text/plain": [
       "FloatProgress(value=0.0, bar_style='info', description='Progress:', layout=Layout(height='25px', width='50%'),…"
      ]
     },
     "metadata": {},
     "output_type": "display_data"
    },
    {
     "name": "stdout",
     "output_type": "stream",
     "text": [
      "['col_1', 'label', 'sub_id', 'chest_ACC_1', 'chest_ACC_2', 'chest_ACC_3', 'chest_ECG', 'chest_EMG', 'chest_EDA', 'chest_Temp', 'chest_Resp']"
     ]
    }
   ],
   "source": [
    "chest_cols = chests_data.columns\n",
    "chest_cols"
   ]
  },
  {
   "cell_type": "code",
   "execution_count": 234,
   "metadata": {},
   "outputs": [
    {
     "data": {
      "application/vnd.jupyter.widget-view+json": {
       "model_id": "a8148e10045f48a1b439a3f369eafe26",
       "version_major": 2,
       "version_minor": 0
      },
      "text/plain": [
       "VBox()"
      ]
     },
     "metadata": {},
     "output_type": "display_data"
    },
    {
     "data": {
      "application/vnd.jupyter.widget-view+json": {
       "model_id": "",
       "version_major": 2,
       "version_minor": 0
      },
      "text/plain": [
       "FloatProgress(value=0.0, bar_style='info', description='Progress:', layout=Layout(height='25px', width='50%'),…"
      ]
     },
     "metadata": {},
     "output_type": "display_data"
    },
    {
     "name": "stdout",
     "output_type": "stream",
     "text": [
      "['sub_id', 'chest_ACC_1', 'chest_ACC_2', 'chest_ACC_3', 'chest_ECG', 'chest_EMG', 'chest_EDA', 'chest_Temp', 'chest_Resp']"
     ]
    }
   ],
   "source": [
    "chest_cols.remove(\"col_1\")\n",
    "chest_cols.remove(\"label\")\n",
    "chest_cols"
   ]
  },
  {
   "cell_type": "code",
   "execution_count": 245,
   "metadata": {},
   "outputs": [
    {
     "data": {
      "application/vnd.jupyter.widget-view+json": {
       "model_id": "e40407bc1e11432c8e85ca24414e702d",
       "version_major": 2,
       "version_minor": 0
      },
      "text/plain": [
       "VBox()"
      ]
     },
     "metadata": {},
     "output_type": "display_data"
    },
    {
     "data": {
      "application/vnd.jupyter.widget-view+json": {
       "model_id": "",
       "version_major": 2,
       "version_minor": 0
      },
      "text/plain": [
       "FloatProgress(value=0.0, bar_style='info', description='Progress:', layout=Layout(height='25px', width='50%'),…"
      ]
     },
     "metadata": {},
     "output_type": "display_data"
    },
    {
     "name": "stderr",
     "output_type": "stream",
     "text": [
      "'NoneType' object has no attribute 'mean_per_class_error'\n",
      "Traceback (most recent call last):\n",
      "AttributeError: 'NoneType' object has no attribute 'mean_per_class_error'\n",
      "\n"
     ]
    }
   ],
   "source": [
    "baseline_m = mpce\n",
    "imps = list()\n",
    "for col in chest_cols:\n",
    "    X_train = chest_train_h2o.drop(col)\n",
    "    X_test = chest_test_h2o.drop(col)\n",
    "    #create autoMl object\n",
    "    chests_predictors = X_train.names[:]\n",
    "    chests_response = \"label\"\n",
    "    chests_model_automl = H2OAutoML(nfolds = 3, max_runtime_secs = 60, seed = 2, max_models = 10)\n",
    "    chests_model_automl.train(x=chests_predictors,\n",
    "                       y=chests_response,\n",
    "                       training_frame=X_train,\n",
    "                       validation_frame=X_test)\n",
    "    leader_model = chests_model_automl.leader \n",
    "    \n",
    "    mpce_new = leader_model.mean_per_class_error(valid=True)\n",
    "    imp.append(baseline_m - mpce_new)"
   ]
  },
  {
   "cell_type": "code",
   "execution_count": 206,
   "metadata": {},
   "outputs": [
    {
     "data": {
      "application/vnd.jupyter.widget-view+json": {
       "model_id": "81c69bc8eb70482b86a298f5850c6d7a",
       "version_major": 2,
       "version_minor": 0
      },
      "text/plain": [
       "VBox()"
      ]
     },
     "metadata": {},
     "output_type": "display_data"
    },
    {
     "data": {
      "application/vnd.jupyter.widget-view+json": {
       "model_id": "",
       "version_major": 2,
       "version_minor": 0
      },
      "text/plain": [
       "FloatProgress(value=0.0, bar_style='info', description='Progress:', layout=Layout(height='25px', width='50%'),…"
      ]
     },
     "metadata": {},
     "output_type": "display_data"
    },
    {
     "name": "stdout",
     "output_type": "stream",
     "text": [
      "0.45662438431770286"
     ]
    }
   ],
   "source": [
    "chest_model.mean_per_class_error(valid=True)"
   ]
  },
  {
   "cell_type": "code",
   "execution_count": 207,
   "metadata": {},
   "outputs": [
    {
     "data": {
      "application/vnd.jupyter.widget-view+json": {
       "model_id": "72bc160e67364730869c13c83ebefdfa",
       "version_major": 2,
       "version_minor": 0
      },
      "text/plain": [
       "VBox()"
      ]
     },
     "metadata": {},
     "output_type": "display_data"
    },
    {
     "data": {
      "application/vnd.jupyter.widget-view+json": {
       "model_id": "",
       "version_major": 2,
       "version_minor": 0
      },
      "text/plain": [
       "FloatProgress(value=0.0, bar_style='info', description='Progress:', layout=Layout(height='25px', width='50%'),…"
      ]
     },
     "metadata": {},
     "output_type": "display_data"
    },
    {
     "name": "stdout",
     "output_type": "stream",
     "text": [
      "\n",
      "ModelMetricsMultinomial: xgboost\n",
      "** Reported on test data. **\n",
      "\n",
      "MSE: 0.23447813506858667\n",
      "RMSE: 0.48422942400125446\n",
      "LogLoss: 0.8584096627664244\n",
      "Mean Per-Class Error: 0.45662438431770286\n",
      "\n",
      "Confusion Matrix: Row labels: Actual class; Column labels: Predicted class\n",
      "1     2     3    Error       Rate\n",
      "----  ----  ---  ----------  -------------\n",
      "4718  6     0    0.00127011  6 / 4,724\n",
      "1066  1826  0    0.368603    1,066 / 2,892\n",
      "1194  294   0    1           1,488 / 1,488\n",
      "6978  2126  0    0.281195    2,560 / 9,104\n",
      "\n",
      "Top-3 Hit Ratios: \n",
      "k    hit_ratio\n",
      "---  -----------\n",
      "1    0.718805\n",
      "2    0.836226\n",
      "3    1"
     ]
    }
   ],
   "source": [
    "perf"
   ]
  },
  {
   "cell_type": "code",
   "execution_count": null,
   "metadata": {},
   "outputs": [
    {
     "data": {
      "application/vnd.jupyter.widget-view+json": {
       "model_id": "48845034bdfe407c941dd59c74ef565e",
       "version_major": 2,
       "version_minor": 0
      },
      "text/plain": [
       "VBox()"
      ]
     },
     "metadata": {},
     "output_type": "display_data"
    },
    {
     "data": {
      "application/vnd.jupyter.widget-view+json": {
       "model_id": "fb485760363d4165b308165574be210f",
       "version_major": 2,
       "version_minor": 0
      },
      "text/plain": [
       "FloatProgress(value=0.0, bar_style='info', description='Progress:', layout=Layout(height='25px', width='50%'),…"
      ]
     },
     "metadata": {},
     "output_type": "display_data"
    }
   ],
   "source": [
    "automl = H2OAutoML(nfolds = 3, max_runtime_secs = 200, seed = 2, max_models = 10)\n",
    "automl.train(x=chests_predictors,\n",
    "                   y=chests_response,\n",
    "                   training_frame=chest_train_h2o,\n",
    "                   validation_frame=chest_test_h2o)"
   ]
  },
  {
   "cell_type": "code",
   "execution_count": 247,
   "metadata": {},
   "outputs": [
    {
     "data": {
      "application/vnd.jupyter.widget-view+json": {
       "model_id": "da7a90d3787c402faf9c5878f0dc0bad",
       "version_major": 2,
       "version_minor": 0
      },
      "text/plain": [
       "VBox()"
      ]
     },
     "metadata": {},
     "output_type": "display_data"
    },
    {
     "data": {
      "application/vnd.jupyter.widget-view+json": {
       "model_id": "",
       "version_major": 2,
       "version_minor": 0
      },
      "text/plain": [
       "FloatProgress(value=0.0, bar_style='info', description='Progress:', layout=Layout(height='25px', width='50%'),…"
      ]
     },
     "metadata": {},
     "output_type": "display_data"
    }
   ],
   "source": [
    "automl.leader"
   ]
  }
 ],
 "metadata": {
  "kernelspec": {
   "display_name": "distributed_computing",
   "language": "python",
   "name": "distributed_computing"
  },
  "language_info": {
   "codemirror_mode": {
    "name": "ipython",
    "version": 3
   },
   "file_extension": ".py",
   "mimetype": "text/x-python",
   "name": "python",
   "nbconvert_exporter": "python",
   "pygments_lexer": "ipython3",
   "version": "3.7.4"
  }
 },
 "nbformat": 4,
 "nbformat_minor": 2
}
